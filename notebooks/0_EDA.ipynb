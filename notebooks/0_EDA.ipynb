{
 "cells": [
  {
   "cell_type": "markdown",
   "metadata": {
    "application/vnd.databricks.v1+cell": {
     "cellMetadata": {
      "byteLimit": 2048000,
      "rowLimit": 10000
     },
     "inputWidgets": {},
     "nuid": "d555477a-f91f-4dc2-a5fd-b634aa2ca93f",
     "showTitle": false,
     "tableResultSettingsMap": {},
     "title": ""
    }
   },
   "source": [
    "\n",
    "# Credit Card Churn Analysis\n",
    "---  \n",
    "\n",
    "## Project Description \n",
    "In this project, I will be working with a dataset provided by **Kaggle**, where I will develop a churn-rate analysis. The goal is to identify the causes and reasons for customer churn from a banking institution in relation to credit card services. After understanding these causes and reasons, some machine learning models will be developed to predict potential customers who will be abandoning the credit card service of this institution. With these predictions, I will seek to develop solutions to prevent or reverse the churn of these customers.  \n",
    "\n",
    "---  \n",
    "\n",
    "### CRISP-DM Methodology  \n",
    "The project will follow the CRISP-DM (*Cross-Industry Standard Process for Data Mining*) framework:  \n",
    "\n",
    "| **Stage** | **Objective** | **Key Actions** |  \n",
    "|-----------|---------------|------------------|  \n",
    "| **1. Business Understanding** | Define the impact of churn prediction on customer retention. | - Identify the causes and possible solutions for the business.<br>- Align metrics with business KPIs. |  \n",
    "| **2. Data Understanding** | Analyze data structure, quality, and variable relationships. | - Exploratory Data Analysis (EDA).<br>- Outlier and correlation detection. |  \n",
    "| **3. Data Preparation** | Prepare data for model training. | - Split training and test data.<br>- Remove redundant variables. |  \n",
    "| **4. Modeling** | Train and compare classical models and neural networks. | - Random Forest/Logistic Regression (baseline).<br>- PyTorch neural network (focus on generalization). |  \n",
    "| **5. Evaluation** | Validate performance with business-oriented metrics. | - AUC-ROC, Recall, confusion matrix.<br>- Simulate financial impact. |  \n",
    "| **6. Deployment** | Deploy the model for production use. | - Build a final churn prediction model with customer behavior indicators. |  \n",
    "\n",
    "*This notebook covers the Business Understanding, Data Understanding, and Data Preparation.*  \n",
    "\n",
    "---  \n"
   ]
  },
  {
   "cell_type": "markdown",
   "metadata": {
    "application/vnd.databricks.v1+cell": {
     "cellMetadata": {},
     "inputWidgets": {},
     "nuid": "c04a2554-51d8-4066-a21c-27f491652e4d",
     "showTitle": false,
     "tableResultSettingsMap": {},
     "title": ""
    }
   },
   "source": [
    "## Installs:"
   ]
  },
  {
   "cell_type": "code",
   "execution_count": 0,
   "metadata": {
    "application/vnd.databricks.v1+cell": {
     "cellMetadata": {
      "byteLimit": 2048000,
      "rowLimit": 10000
     },
     "inputWidgets": {},
     "nuid": "8490b1ff-6c75-4dda-9c48-636042ea8efc",
     "showTitle": false,
     "tableResultSettingsMap": {},
     "title": ""
    }
   },
   "outputs": [],
   "source": [
    "%pip install -r '/Workspace/Repos/otniel.g.andrade@outlook.com/1_Portfolio-Credit-Card_Churn_Analysis_with_Pytorch/eda_requirements.txt'"
   ]
  },
  {
   "cell_type": "code",
   "execution_count": 0,
   "metadata": {
    "application/vnd.databricks.v1+cell": {
     "cellMetadata": {
      "byteLimit": 2048000,
      "rowLimit": 10000
     },
     "inputWidgets": {},
     "nuid": "4db15920-5a49-411e-a061-44b913c86c80",
     "showTitle": false,
     "tableResultSettingsMap": {},
     "title": ""
    }
   },
   "outputs": [],
   "source": [
    "# Command to restart the kernel and update the installed libraries\n",
    "%restart_python"
   ]
  },
  {
   "cell_type": "markdown",
   "metadata": {
    "application/vnd.databricks.v1+cell": {
     "cellMetadata": {
      "byteLimit": 2048000,
      "rowLimit": 10000
     },
     "inputWidgets": {},
     "nuid": "70bffb53-e6b6-48ea-9fe9-7a335144a234",
     "showTitle": false,
     "tableResultSettingsMap": {},
     "title": ""
    }
   },
   "source": [
    "## Imports:\n"
   ]
  },
  {
   "cell_type": "code",
   "execution_count": 0,
   "metadata": {
    "application/vnd.databricks.v1+cell": {
     "cellMetadata": {
      "byteLimit": 2048000,
      "rowLimit": 10000
     },
     "inputWidgets": {},
     "nuid": "f7b87f85-f713-4667-83b4-baced5a44fc9",
     "showTitle": false,
     "tableResultSettingsMap": {},
     "title": ""
    }
   },
   "outputs": [],
   "source": [
    "# Data analizing/preparation:\n",
    "# PySpark.SQL\n",
    "from pyspark.sql import functions as F\n",
    "from pyspark.sql.types import IntegerType\n",
    "from pyspark.sql.types import NumericType\n",
    "# Pandas\n",
    "import pandas as pd\n",
    "# Sklearning features\n",
    "from sklearn.feature_selection import chi2\n",
    "\n",
    "# SRC/ Functions Utils\n",
    "import sys\n",
    "sys.path.append('/Workspace/Repos/otniel.g.andrade@outlook.com/1_Portfolio-Credit-Card_Churn_Analysis_with_Pytorch/src')\n",
    "from data import DataSpark\n",
    "from visualization import GraphicsData\n",
    "from utils import find_outliers, ttest_between_groups"
   ]
  },
  {
   "cell_type": "markdown",
   "metadata": {
    "application/vnd.databricks.v1+cell": {
     "cellMetadata": {
      "byteLimit": 2048000,
      "rowLimit": 10000
     },
     "inputWidgets": {},
     "nuid": "7b1c0c44-d2fd-40f7-85fe-79ae3119dfba",
     "showTitle": false,
     "tableResultSettingsMap": {},
     "title": ""
    }
   },
   "source": [
    "\n",
    "## 1 - Business Understanding  \n",
    "---\n",
    "\n",
    "### General Problem Context  \n",
    "#### What is Churn Rate, and What Are the Solutions to This Problem? \n",
    "Many companies struggle with customer churn and often find it challenging to reverse this trend. The metric that measures this scenario is called **churn rate**, which indicates when strategic solutions are needed to address the issue.  \n",
    "\n",
    "In 2020, Bryce Baer published a guide on churn rate on the [Zendesk website](https://www.zendesk.com.br/blog/customer-churn-rate/?_ga=2.155312252.614584228.1623244699-1365810980.1622555740#) – a company specializing in corporate software development. The guide highlights that businesses implementing strategies to reduce churn can increase their **profitability** by nearly 40%.  \n",
    "\n",
    "---\n",
    "\n",
    "#### How to Calculate Churn Rate?\n",
    "##### Churn Rate Formula:  \n",
    "$$\\text{Churn Rate} = \\frac{\\text{Number of customers lost during a period}}{\\text{Total number of customers at the start of the period}} \\times 100$$  \n",
    "\n",
    "---\n",
    "\n",
    "#### Impacts of a High Churn Rate\n",
    "While reducing churn to zero is practically impossible, acceptable rates (4% to 5%) minimize financial impacts. Some companies operate at higher rates (5% to 7%) without significant revenue loss, depending on industry dynamics. **Key factors to define \"acceptable\" churn**:  \n",
    "- Industry standards (e.g., SaaS vs. retail).  \n",
    "- Customer lifetime value (CLV).  \n",
    "- Customer acquisition cost (CAC).  \n",
    "\n",
    "---\n",
    "\n",
    "#### Reasons for Customer Churn\n",
    "1. **Lack of Perceived Value**:  \n",
    "   - Occurs when there’s a growing gap between customer expectations and actual delivery. Clear communication about product/service benefits is critical.  \n",
    "2. **Poor Customer Experience**:  \n",
    "   - Negative interactions (e.g., bad support, complex processes, product failures) drive churn.  \n",
    "3. **Competitor Offers**:  \n",
    "   - Attractive promotions or pricing from competitors can lure customers away.  \n",
    "4. **Changing Customer Needs**:  \n",
    "   - Failure to adapt products/services to evolving demands leads to turnover.  \n",
    "\n",
    "---\n",
    "\n",
    "## Project Challenge: \n",
    "The bank’s manager has observed a rising number of customers abandoning credit card services. Stakeholders aim to:  \n",
    "1. **Analyze historical data** to identify root causes of churn.  \n",
    "2. **Develop a machine learning model** to predict customer churn probability.  \n",
    "3. **Implement strategic actions** to retain high-risk customers.  \n",
    "\n",
    "---\n",
    "\n",
    "## KPIs for the Churn Prediction Project:  \n",
    "1. **Churn Rate**:  \n",
    "   - *Definition*: Percentage of customers who discontinue credit card services within a specific period.  \n",
    "   - *Goal*: Reduce this metric through targeted retention strategies.  \n",
    "\n",
    "2. **Retention Rate**:  \n",
    "   - *Definition*: Percentage of customers retained after a period.  \n",
    "   - *Importance*: Directly reflects the success of retention efforts.  \n",
    "\n",
    "3. **Customer Acquisition Cost (CAC) vs. Retention Cost**:  \n",
    "   - *Definition*: Ratio of costs to acquire new customers vs. retaining existing ones.  \n",
    "   - *Insight*: Retention is typically **5-7x cheaper** than acquisition.  \n",
    "\n",
    "4. **AUC-ROC (Area Under the Receiver Operating Characteristic Curve)**:  \n",
    "   - *Definition*: Measures the model’s ability to distinguish between churners and non-churners.  \n",
    "   - *Target*: AUC-ROC > 0.90.  \n",
    "\n",
    "5. **Recall**:  \n",
    "   - *Definition*: Proportion of actual churners correctly identified by the model.  \n",
    "   - *Importance*: High recall ensures fewer **false negatives** (missed churners), which is critical because a false negative could result in losing a customer. Retaining existing customers through targeted strategies is significantly cheaper than acquiring new ones.  \n",
    "\n",
    "---\n",
    "\n"
   ]
  },
  {
   "cell_type": "markdown",
   "metadata": {
    "application/vnd.databricks.v1+cell": {
     "cellMetadata": {
      "byteLimit": 2048000,
      "rowLimit": 10000
     },
     "inputWidgets": {},
     "nuid": "ff674737-4154-4e06-a532-101c9e129c4b",
     "showTitle": false,
     "tableResultSettingsMap": {},
     "title": ""
    }
   },
   "source": [
    "## 2 - Data Understanding\n",
    "\n",
    "---\n",
    "\n",
    "* This dataset consists of 10,000 customers mentioning their age, salary, marital_status, credit card limit, credit card category, etc.\n",
    "\n",
    "---\n",
    "\n",
    "- **Data file**: - BankChurners.csv\n",
    "\n",
    "---\n",
    "\n",
    "- **Target dependent variable**: - 'Attrition_Flag', categorical column with binary classification, i.e. 'Existing Customer'(No-churner) or 'Attrited Customer'(Churner).\n",
    "\n",
    "---\n",
    "\n",
    "- **The dataset colleted from kaggle**: https://www.kaggle.com/datasets/sakshigoyal7/credit-card-customers?sort=votes&select=BankChurners.csv\n",
    "\n",
    "---\n",
    "- **The dataset origin from this site**: https://leaps.analyttica.com/home\n",
    "\n",
    "---\n",
    "\n"
   ]
  },
  {
   "cell_type": "markdown",
   "metadata": {
    "application/vnd.databricks.v1+cell": {
     "cellMetadata": {
      "byteLimit": 2048000,
      "rowLimit": 10000
     },
     "inputWidgets": {},
     "nuid": "8cb944f8-21c8-4478-99ec-f6d7f769745b",
     "showTitle": false,
     "tableResultSettingsMap": {},
     "title": ""
    }
   },
   "source": [
    "### Loading Dataset\n",
    "\n",
    "I will use Medallion Architecture to organize and classify the data. This approach organizes the data into different levels of processing and refinement, making it easier to manage and analyze the data. Here is a summary of each layer:\n",
    "\n",
    "---\n",
    "\n",
    "- **Bronze Layer:**\n",
    "\n",
    "  Description: Stores the raw data, exactly as it was collected from different sources.\n",
    "  \n",
    "  Objective: Preserve the integrity of the original data, without any transformation.\n",
    "---\n",
    "- **Silver Layer:**\n",
    "\n",
    "  Description: Contains pre-processed and cleaned data.\n",
    "  \n",
    "  Objective: Perform basic transformations, such as data cleaning, standardization, and type correction.\n",
    "---\n",
    "- **Gold Layer:**\n",
    "\n",
    "  Description: Stores the refined data, ready for analysis and final consumption.\n",
    "  \n",
    "  Objective: Apply specific corrections and improvements according to business needs.\n",
    "\n",
    "---"
   ]
  },
  {
   "cell_type": "markdown",
   "metadata": {
    "application/vnd.databricks.v1+cell": {
     "cellMetadata": {
      "byteLimit": 2048000,
      "rowLimit": 10000
     },
     "inputWidgets": {},
     "nuid": "64b2df5e-9151-4e3c-9acc-ffb1a006fc81",
     "showTitle": false,
     "tableResultSettingsMap": {},
     "title": ""
    }
   },
   "source": [
    "### Bronze Data Tier"
   ]
  },
  {
   "cell_type": "code",
   "execution_count": 0,
   "metadata": {
    "application/vnd.databricks.v1+cell": {
     "cellMetadata": {
      "byteLimit": 2048000,
      "rowLimit": 10000
     },
     "inputWidgets": {},
     "nuid": "ae2c3c1d-3641-4deb-bc41-ac2232facc66",
     "showTitle": false,
     "tableResultSettingsMap": {},
     "title": ""
    }
   },
   "outputs": [],
   "source": [
    "# Creating a directory to store the files\n",
    "dbutils.fs.mkdirs('/Volumes/workspace/projects-data-science/churn-project-data/bronze')\n",
    "###### >>>>>>> Note: At this point, upload the files present in the notebook repository folder to this directory\n",
    "\n",
    "# Viewing the location of files\n",
    "display(dbutils.fs.ls('/Volumes/workspace/projects-data-science/churn-project-data/bronze'))"
   ]
  },
  {
   "cell_type": "code",
   "execution_count": 0,
   "metadata": {
    "application/vnd.databricks.v1+cell": {
     "cellMetadata": {
      "byteLimit": 2048000,
      "rowLimit": 10000
     },
     "inputWidgets": {},
     "nuid": "d7c93bf8-2bd3-4d96-93d1-ae2fa4abdeff",
     "showTitle": false,
     "tableResultSettingsMap": {},
     "title": ""
    }
   },
   "outputs": [],
   "source": [
    "# File location and type\n",
    "file_location = '/Volumes/workspace/projects-data-science/churn-project-data/bronze/BankChurners.csv'\n",
    "file_type = 'csv'\n",
    "# Load Data\n",
    "df_csv = DataSpark(spark= spark, file_location = file_location).load_data(file_type = file_type)\n",
    "# Show Data\n",
    "df_csv.limit(10).display()"
   ]
  },
  {
   "cell_type": "markdown",
   "metadata": {
    "application/vnd.databricks.v1+cell": {
     "cellMetadata": {
      "byteLimit": 2048000,
      "rowLimit": 10000
     },
     "inputWidgets": {},
     "nuid": "61507f7a-e8ad-40bd-a00c-cec0b49ac716",
     "showTitle": false,
     "tableResultSettingsMap": {},
     "title": ""
    }
   },
   "source": [
    "### Saving dataset in Parquet format for more performance at consultations"
   ]
  },
  {
   "cell_type": "code",
   "execution_count": 0,
   "metadata": {
    "application/vnd.databricks.v1+cell": {
     "cellMetadata": {
      "byteLimit": 2048000,
      "rowLimit": 10000
     },
     "inputWidgets": {},
     "nuid": "4ca81649-dffe-41fb-923f-8fe9d4fee1ff",
     "showTitle": false,
     "tableResultSettingsMap": {},
     "title": ""
    }
   },
   "outputs": [],
   "source": [
    "# File location and type\n",
    "# Creating a directory to store the files\n",
    "file_location = '/Volumes/workspace/projects-data-science/churn-project-data/bronze/parquet'\n",
    "file_type = 'parquet'\n",
    "\n",
    "# Save Data\n",
    "DataSpark(spark = spark, dataframe = df_csv, file_location = file_location).save_data(file_type = file_type)\n",
    "# Load Data\n",
    "df = DataSpark(spark = spark, file_location = file_location).load_data(file_type = file_type)\n",
    "# Show Data\n",
    "df.limit(10).display()"
   ]
  },
  {
   "cell_type": "markdown",
   "metadata": {
    "application/vnd.databricks.v1+cell": {
     "cellMetadata": {
      "byteLimit": 2048000,
      "rowLimit": 10000
     },
     "inputWidgets": {},
     "nuid": "a46bf40b-3b2a-46dd-8e90-b7271cefb0d8",
     "showTitle": false,
     "tableResultSettingsMap": {},
     "title": ""
    }
   },
   "source": [
    "### Dictionary of Dataset\n",
    "---\n",
    "\n",
    "**CLIENTNUM**: Client number. Unique identifier for the customer holding the account\n",
    "\n",
    "---\n",
    "\n",
    "**Attrition_Flag**: Internal event (customer activity) variable - if the account is closed then 'Attrited Customer' else 'Existing Customer'\n",
    "\n",
    "---\n",
    "\n",
    "**Customer_Age**: Demographic variable - Customer's Age in Years\n",
    "\n",
    "---\n",
    "\n",
    "**Gender**: Demographic variable - M=Male, F=Female\n",
    "\n",
    "---\n",
    "\n",
    "**Dependent_count**: Demographic variable - Number of dependents\n",
    "\n",
    "---\n",
    "\n",
    "**Education_Level**: Demographic variable - Educational Qualification of the account holder (example: high school, college graduate, etc.)\n",
    "\n",
    "---\n",
    "\n",
    "**Marital_Status**: Demographic variable - Married, Single, Divorced, Unknown\n",
    "\n",
    "---\n",
    "\n",
    "**Income_Category**: Demographic variable - Annual Income Category of the account holder (< $40K, $40K - 60K, $60K - $80K, $80K-$120K, >$120K)\n",
    "\n",
    "---\n",
    "\n",
    "**Card_Category**: Product Variable - Type of Card (Blue, Silver, Gold, Platinum)\n",
    "\n",
    "---\n",
    "\n",
    "**Months_on_book**: Period of relationship with bank\n",
    "\n",
    "---\n",
    "\n",
    "**Total_Relationship_Count**: Total no. of products held by the customer\n",
    "\n",
    "---\n",
    "\n",
    "**Months_Inactive_12_mon**: No. of months inactive in the last 12 months\n",
    "\n",
    "---\n",
    "\n",
    "**Contacts_Count_12_mon**: No. of Contacts in the last 12 months\n",
    "\n",
    "---\n",
    "\n",
    "**Credit_Limit**: Credit Limit on the Credit Card\n",
    "\n",
    "---\n",
    "\n",
    "**Total_Revolving_Bal**: Total Revolving Balance on the Credit Card\n",
    "\n",
    "---\n",
    "\n",
    "**Avg_Open_To_Buy**: Open to Buy Credit Line (Average of last 12 months)\n",
    "\n",
    "---\n",
    "\n",
    "**Total_Amt_Chng_Q4_Q1**: Change in Transaction Amount (Q4 over Q1)\n",
    "\n",
    "---\n",
    "\n",
    "**Total_Trans_Amt**: Total Transaction Amount (Last 12 months)\n",
    "\n",
    "---\n",
    "\n",
    "**Total_Trans_Ct**: Total Transaction Count (Last 12 months)\n",
    "\n",
    "---\n",
    "\n",
    "**Total_Ct_Chng_Q4_Q1**: Change in Transaction Count (Q4 over Q1)\n",
    "\n",
    "---\n",
    "\n",
    "**Avg_Utilization_Ratio**: Average Card Utilization Ratio\n",
    "\n",
    "---\n"
   ]
  },
  {
   "cell_type": "markdown",
   "metadata": {
    "application/vnd.databricks.v1+cell": {
     "cellMetadata": {
      "byteLimit": 2048000,
      "rowLimit": 10000
     },
     "inputWidgets": {},
     "nuid": "2792943f-1845-40be-a111-666e172f2ee3",
     "showTitle": false,
     "tableResultSettingsMap": {},
     "title": ""
    }
   },
   "source": [
    "### The Size Dataset"
   ]
  },
  {
   "cell_type": "code",
   "execution_count": 0,
   "metadata": {
    "application/vnd.databricks.v1+cell": {
     "cellMetadata": {
      "byteLimit": 2048000,
      "rowLimit": 10000
     },
     "inputWidgets": {},
     "nuid": "639c4ee1-4e02-4a05-9c3e-0f09fbeed3af",
     "showTitle": false,
     "tableResultSettingsMap": {},
     "title": ""
    }
   },
   "outputs": [],
   "source": [
    "print(f'Number of registers: {df.count()}\\nNumber of columns: {len(df.columns)}')"
   ]
  },
  {
   "cell_type": "markdown",
   "metadata": {
    "application/vnd.databricks.v1+cell": {
     "cellMetadata": {
      "byteLimit": 2048000,
      "rowLimit": 10000
     },
     "inputWidgets": {},
     "nuid": "a6faa43d-e159-4cc4-80f7-e02e5b70a3cb",
     "showTitle": false,
     "tableResultSettingsMap": {},
     "title": ""
    }
   },
   "source": [
    "### Drop Redundantes Columns:\n",
    "\n",
    "According to the documentation of this dataset that was made available by Kaggle, we were given the recommendation to remove the columns:\n",
    "\n",
    "---\n",
    "- Naive_Bayes_Classifier_Attrition_Flag_Card_Category_Contacts_Count_12_mon_Dependent_count_Education_Level_Months_Inactive_12_mon_1\n",
    "\n",
    "---\n",
    "- Naive_Bayes_Classifier_Attrition_Flag_Card_Category_Contacts_Count_12_mon_Dependent_count_Education_Level_Months_Inactive_12_mon_2\n",
    "\n",
    "---\n",
    "Therefore, I will be applying this recommendation.\n",
    "\n",
    "Will also be removing the **CLIENTNUM** column, which refers to the registration number of the customers of this banking institution. It is possible to conclude that this data will not add any relevant information to the resolution of the problems and questions to be answered with this analysis.\n",
    "\n",
    "---"
   ]
  },
  {
   "cell_type": "code",
   "execution_count": 0,
   "metadata": {
    "application/vnd.databricks.v1+cell": {
     "cellMetadata": {
      "byteLimit": 2048000,
      "rowLimit": 10000
     },
     "inputWidgets": {},
     "nuid": "bdb53d17-f1a6-4cd8-a542-7c64768ec584",
     "showTitle": false,
     "tableResultSettingsMap": {},
     "title": ""
    }
   },
   "outputs": [],
   "source": [
    "redundants_cols = [\n",
    "  'Naive_Bayes_Classifier_Attrition_Flag_Card_Category_Contacts_Count_12_mon_Dependent_count_Education_Level_Months_Inactive_12_mon_1', 'Naive_Bayes_Classifier_Attrition_Flag_Card_Category_Contacts_Count_12_mon_Dependent_count_Education_Level_Months_Inactive_12_mon_2',\n",
    "  'CLIENTNUM'\n",
    "]\n",
    "df = df.drop(* redundants_cols)\n",
    "\n",
    "# Check size Dataset\n",
    "df.count(), len(df.columns)"
   ]
  },
  {
   "cell_type": "markdown",
   "metadata": {
    "application/vnd.databricks.v1+cell": {
     "cellMetadata": {
      "byteLimit": 2048000,
      "rowLimit": 10000
     },
     "inputWidgets": {},
     "nuid": "e70fbb5c-a2de-4bb7-8df2-67e0fc012834",
     "showTitle": false,
     "tableResultSettingsMap": {},
     "title": ""
    }
   },
   "source": [
    "### Checking data and its characteristics"
   ]
  },
  {
   "cell_type": "code",
   "execution_count": 0,
   "metadata": {
    "application/vnd.databricks.v1+cell": {
     "cellMetadata": {
      "byteLimit": 2048000,
      "rowLimit": 10000
     },
     "inputWidgets": {},
     "nuid": "c49723e1-974e-4a34-9c18-31f8e892a3a2",
     "showTitle": false,
     "tableResultSettingsMap": {},
     "title": ""
    }
   },
   "outputs": [],
   "source": [
    "df.printSchema()"
   ]
  },
  {
   "cell_type": "markdown",
   "metadata": {
    "application/vnd.databricks.v1+cell": {
     "cellMetadata": {
      "byteLimit": 2048000,
      "rowLimit": 10000
     },
     "inputWidgets": {},
     "nuid": "ef58bb9b-7d3a-4a44-8f3f-c9d2c597ca83",
     "showTitle": false,
     "tableResultSettingsMap": {},
     "title": ""
    }
   },
   "source": [
    "#### Checking for null data"
   ]
  },
  {
   "cell_type": "code",
   "execution_count": 0,
   "metadata": {
    "application/vnd.databricks.v1+cell": {
     "cellMetadata": {
      "byteLimit": 2048000,
      "rowLimit": 10000
     },
     "inputWidgets": {},
     "nuid": "92f45b73-bce3-4e8e-8ec7-7f068fa475e2",
     "showTitle": false,
     "tableResultSettingsMap": {},
     "title": ""
    }
   },
   "outputs": [],
   "source": [
    "# Size df\n",
    "size_df = df.count()\n",
    "\n",
    "# List of results\n",
    "null_percents = []\n",
    "\n",
    "for c in df.columns:\n",
    "    if isinstance(df.schema[c].dataType, NumericType):\n",
    "        # For numerics: checks for NaN and null\n",
    "        null_count = F.count(F.when(F.isnan(c) | F.col(c).isNull(), c))\n",
    "        \n",
    "    else:\n",
    "        # For non-numerics: check only for null\n",
    "        null_count = F.count(F.when(F.col(c).isNull(), c))\n",
    "    \n",
    "    null_percents.append(\n",
    "        F.round((null_count / size_df) * 100, 2).alias(c)\n",
    "    )\n",
    "\n",
    "df.agg(*null_percents).display()"
   ]
  },
  {
   "cell_type": "markdown",
   "metadata": {
    "application/vnd.databricks.v1+cell": {
     "cellMetadata": {
      "byteLimit": 2048000,
      "rowLimit": 10000
     },
     "inputWidgets": {},
     "nuid": "29912a60-c12c-4396-8048-d4a87fabe1a6",
     "showTitle": false,
     "tableResultSettingsMap": {},
     "title": ""
    }
   },
   "source": [
    "#### Checking data duplicate "
   ]
  },
  {
   "cell_type": "code",
   "execution_count": 0,
   "metadata": {
    "application/vnd.databricks.v1+cell": {
     "cellMetadata": {
      "byteLimit": 2048000,
      "rowLimit": 10000
     },
     "inputWidgets": {},
     "nuid": "e6a69157-2291-4f71-a866-c08dd6447c74",
     "showTitle": false,
     "tableResultSettingsMap": {},
     "title": ""
    }
   },
   "outputs": [],
   "source": [
    "df.groupby(df.columns) \\\n",
    "    .count() \\\n",
    "    .filter(F.col('count') > 1) \\\n",
    "    .display()"
   ]
  },
  {
   "cell_type": "markdown",
   "metadata": {
    "application/vnd.databricks.v1+cell": {
     "cellMetadata": {
      "byteLimit": 2048000,
      "rowLimit": 10000
     },
     "inputWidgets": {},
     "nuid": "2980dd2d-60a4-41c6-bab4-a2d495c4754a",
     "showTitle": false,
     "tableResultSettingsMap": {},
     "title": ""
    }
   },
   "source": [
    "### Classifying variables\n",
    "#### Concepts for Classification of variables according to statistics:\n",
    "\n",
    "---\n",
    "\n",
    "**Quantitative or numerical variables**:\n",
    "\n",
    "* *Discrete*: only take integer values\n",
    "\n",
    "* *Continuous*: assumes any value in the range of real numbers\n",
    "\n",
    "---\n",
    "\n",
    "**Qualitative or categorical variables**:\n",
    "* *Nominals*: when categories do not have a natural order\n",
    "\n",
    "* *Ordinals*: when categories can be ordered.\n",
    "\n",
    "---"
   ]
  },
  {
   "cell_type": "markdown",
   "metadata": {
    "application/vnd.databricks.v1+cell": {
     "cellMetadata": {
      "byteLimit": 2048000,
      "rowLimit": 10000
     },
     "inputWidgets": {},
     "nuid": "c957e7cc-f391-4daf-bc6c-db8a20e42789",
     "showTitle": false,
     "tableResultSettingsMap": {},
     "title": ""
    }
   },
   "source": [
    "##### Adjusting column names"
   ]
  },
  {
   "cell_type": "code",
   "execution_count": 0,
   "metadata": {
    "application/vnd.databricks.v1+cell": {
     "cellMetadata": {
      "byteLimit": 2048000,
      "rowLimit": 10000
     },
     "inputWidgets": {},
     "nuid": "410aa05a-dc77-4d1c-b749-973f4b8e3993",
     "showTitle": false,
     "tableResultSettingsMap": {},
     "title": ""
    }
   },
   "outputs": [],
   "source": [
    "for column in df.columns:\n",
    "    \n",
    "    # Renaming columns with only lowercase letters    \n",
    "    df = df.withColumnRenamed(column, column.lower()) \\\n",
    "\n",
    "df.limit(5).display()       "
   ]
  },
  {
   "cell_type": "code",
   "execution_count": 0,
   "metadata": {
    "application/vnd.databricks.v1+cell": {
     "cellMetadata": {
      "byteLimit": 2048000,
      "rowLimit": 10000
     },
     "inputWidgets": {},
     "nuid": "be1a0549-0450-4ca1-b1b0-9b1e7a22f6dc",
     "showTitle": false,
     "tableResultSettingsMap": {},
     "title": ""
    }
   },
   "outputs": [],
   "source": [
    "# Numerical Variables\n",
    "\n",
    "discrete_numerical = [\n",
    "    'customer_age', 'dependent_count', 'months_on_book', 'total_relationship_count', 'months_inactive_12_mon', 'contacts_count_12_mon', 'total_trans_ct'\n",
    "    ]\n",
    "\n",
    "continuos_numerical = [\n",
    "    'credit_limit','total_revolving_bal', 'avg_open_to_buy', 'total_amt_chng_q4_q1', 'total_trans_amt', 'total_ct_chng_q4_q1',\n",
    "    'avg_utilization_ratio'\n",
    "\n",
    "    ]\n",
    "\n",
    "\n",
    "# Categorical Variables\n",
    "\n",
    "nominal_categorical = [\n",
    "    'attrition_flag', 'gender', 'marital_status', \n",
    "    ]\n",
    "\n",
    "ordinal_categorical  = [\n",
    "    'education_level', 'income_category', 'card_category', \n",
    "\n",
    "    ]\n"
   ]
  },
  {
   "cell_type": "code",
   "execution_count": 0,
   "metadata": {
    "application/vnd.databricks.v1+cell": {
     "cellMetadata": {
      "byteLimit": 2048000,
      "rowLimit": 10000
     },
     "inputWidgets": {},
     "nuid": "f485d702-91f1-4afc-a97f-58edd61c00f2",
     "showTitle": false,
     "tableResultSettingsMap": {},
     "title": ""
    }
   },
   "outputs": [],
   "source": [
    "# Create dataset with column types\n",
    "column = ['ct_type_cols']\n",
    "data = [ (name_col, ) for name_col in df.columns]\n",
    "type_columns = spark.createDataFrame(data, column)\n",
    "\n",
    "# Adding types\n",
    "type_columns = type_columns \\\n",
    "  .withColumn('ct_type_cols', F.when(F.col('ct_type_cols').isin(nominal_categorical), 'Nominal Categorical').otherwise(F.col('ct_type_cols'))) \\\n",
    "  .withColumn('ct_type_cols', F.when(F.col('ct_type_cols').isin(ordinal_categorical), 'Ordinal Categorical').otherwise(F.col('ct_type_cols'))) \\\n",
    "  .withColumn('ct_type_cols', F.when(F.col('ct_type_cols').isin(continuos_numerical), 'Continuos Numerical').otherwise(F.col('ct_type_cols'))) \\\n",
    "  .withColumn('ct_type_cols', F.when(F.col('ct_type_cols').isin(discrete_numerical), 'Discrete Numerical').otherwise(F.col('ct_type_cols'))) \\\n",
    "\n",
    "# Colleting data\n",
    "groupy_type_columns = type_columns.groupBy('ct_type_cols') \\\n",
    "  .agg(F.count('ct_type_cols').alias('count_types')) \\\n",
    "  .withColumn('percentage', F.round((F.col('count_types') / len(df.columns)) * 100, 2)) \\\n",
    "  .orderBy('count_types') \\\n",
    "\n",
    "# Graphic\n",
    "# Data\n",
    "data_ax = groupy_type_columns.toPandas()"
   ]
  },
  {
   "cell_type": "code",
   "execution_count": 0,
   "metadata": {
    "application/vnd.databricks.v1+cell": {
     "cellMetadata": {
      "byteLimit": 2048000,
      "rowLimit": 10000
     },
     "inputWidgets": {},
     "nuid": "38370308-6241-418b-b0ae-5cc6e99e1cc0",
     "showTitle": false,
     "tableResultSettingsMap": {},
     "title": ""
    }
   },
   "outputs": [],
   "source": [
    "pie_type_var = GraphicsData(data = data_ax)\n",
    "pie_type_var.plot_variable_type(count_col='count_types', label_col='ct_type_cols')"
   ]
  },
  {
   "cell_type": "markdown",
   "metadata": {
    "application/vnd.databricks.v1+cell": {
     "cellMetadata": {
      "byteLimit": 2048000,
      "rowLimit": 10000
     },
     "inputWidgets": {},
     "nuid": "33057962-8792-4334-8687-314e88e9636c",
     "showTitle": false,
     "tableResultSettingsMap": {},
     "title": ""
    }
   },
   "source": [
    "### Checking the data initially to verify its characteristics and structure"
   ]
  },
  {
   "cell_type": "markdown",
   "metadata": {
    "application/vnd.databricks.v1+cell": {
     "cellMetadata": {
      "byteLimit": 2048000,
      "rowLimit": 10000
     },
     "inputWidgets": {},
     "nuid": "f5d39eba-cf50-47ae-b007-29c6e65708d3",
     "showTitle": false,
     "tableResultSettingsMap": {},
     "title": ""
    }
   },
   "source": [
    "####Checking some statistical data from the numerical columns of the data"
   ]
  },
  {
   "cell_type": "code",
   "execution_count": 0,
   "metadata": {
    "application/vnd.databricks.v1+cell": {
     "cellMetadata": {
      "byteLimit": 2048000,
      "rowLimit": 10000
     },
     "inputWidgets": {},
     "nuid": "b047d0c3-8cdb-4436-a143-ed2ece98a586",
     "showTitle": false,
     "tableResultSettingsMap": {},
     "title": ""
    }
   },
   "outputs": [],
   "source": [
    "df_describe = df.select(*discrete_numerical, *continuos_numerical) \\\n",
    "    .describe()\n",
    "df_describe.display()"
   ]
  },
  {
   "cell_type": "markdown",
   "metadata": {
    "application/vnd.databricks.v1+cell": {
     "cellMetadata": {
      "byteLimit": 2048000,
      "rowLimit": 10000
     },
     "inputWidgets": {},
     "nuid": "cd11485f-ba8d-4db2-8c0c-303d229b75a0",
     "showTitle": false,
     "tableResultSettingsMap": {},
     "title": ""
    }
   },
   "source": [
    "#### Mean of numerical variables"
   ]
  },
  {
   "cell_type": "code",
   "execution_count": 0,
   "metadata": {
    "application/vnd.databricks.v1+cell": {
     "cellMetadata": {
      "byteLimit": 2048000,
      "rowLimit": 10000
     },
     "inputWidgets": {},
     "nuid": "f65c11ec-2756-4dd0-9d43-8e28f3ab67af",
     "showTitle": false,
     "tableResultSettingsMap": {},
     "title": ""
    }
   },
   "outputs": [],
   "source": [
    "df_describe.filter(F.col('summary') == 'mean').display()"
   ]
  },
  {
   "cell_type": "markdown",
   "metadata": {
    "application/vnd.databricks.v1+cell": {
     "cellMetadata": {
      "byteLimit": 2048000,
      "rowLimit": 10000
     },
     "inputWidgets": {},
     "nuid": "6e0c76df-3287-4801-bfc9-729f76bf1295",
     "showTitle": false,
     "tableResultSettingsMap": {},
     "title": ""
    }
   },
   "source": [
    "#### Check categorial variables"
   ]
  },
  {
   "cell_type": "code",
   "execution_count": 0,
   "metadata": {
    "application/vnd.databricks.v1+cell": {
     "cellMetadata": {
      "byteLimit": 2048000,
      "rowLimit": 10000
     },
     "inputWidgets": {},
     "nuid": "12d56d0a-31ca-40df-b1cd-f502ff529ff6",
     "showTitle": false,
     "tableResultSettingsMap": {},
     "title": ""
    }
   },
   "outputs": [],
   "source": [
    "# Iterating over dataset columns\n",
    "for column in  df.select(*nominal_categorical, *ordinal_categorical).columns:\n",
    "\n",
    "    # Grouping columns by frequency and percentage\n",
    "    df.groupBy(column) \\\n",
    "        .agg(F.count(column).alias('frequency')) \\\n",
    "        .withColumn('percentage', F.round((F.col('frequency') / df.count()) * 100, 2)) \\\n",
    "        .orderBy('frequency', ascending = False) \\\n",
    "        .display()     "
   ]
  },
  {
   "cell_type": "markdown",
   "metadata": {
    "application/vnd.databricks.v1+cell": {
     "cellMetadata": {
      "byteLimit": 2048000,
      "rowLimit": 10000
     },
     "inputWidgets": {},
     "nuid": "f7a6cefa-a339-4137-bede-59bd11c982c8",
     "showTitle": false,
     "tableResultSettingsMap": {},
     "title": ""
    }
   },
   "source": [
    "#### Checking Outliers"
   ]
  },
  {
   "cell_type": "markdown",
   "metadata": {
    "application/vnd.databricks.v1+cell": {
     "cellMetadata": {
      "byteLimit": 2048000,
      "rowLimit": 10000
     },
     "inputWidgets": {},
     "nuid": "ee7b34d5-2530-4fd0-8e93-67eaa532c225",
     "showTitle": false,
     "tableResultSettingsMap": {},
     "title": ""
    }
   },
   "source": [
    "The min values ​​of numerical data"
   ]
  },
  {
   "cell_type": "code",
   "execution_count": 0,
   "metadata": {
    "application/vnd.databricks.v1+cell": {
     "cellMetadata": {
      "byteLimit": 2048000,
      "rowLimit": 10000
     },
     "inputWidgets": {},
     "nuid": "d31ffd9c-71b7-45fe-87d0-51948fe795a2",
     "showTitle": false,
     "tableResultSettingsMap": {},
     "title": ""
    }
   },
   "outputs": [],
   "source": [
    "df_describe.filter(F.col('summary') == 'min').display()"
   ]
  },
  {
   "cell_type": "markdown",
   "metadata": {
    "application/vnd.databricks.v1+cell": {
     "cellMetadata": {
      "byteLimit": 2048000,
      "rowLimit": 10000
     },
     "inputWidgets": {},
     "nuid": "aa14ba76-36d9-49ce-b684-3470908ec0f6",
     "showTitle": false,
     "tableResultSettingsMap": {},
     "title": ""
    }
   },
   "source": [
    "The max values ​​of numerical data"
   ]
  },
  {
   "cell_type": "code",
   "execution_count": 0,
   "metadata": {
    "application/vnd.databricks.v1+cell": {
     "cellMetadata": {
      "byteLimit": 2048000,
      "rowLimit": 10000
     },
     "inputWidgets": {},
     "nuid": "fe7cbf14-5723-4cd1-82b4-ae588074d641",
     "showTitle": false,
     "tableResultSettingsMap": {},
     "title": ""
    }
   },
   "outputs": [],
   "source": [
    "df_describe.filter(F.col('summary') == 'max').display()"
   ]
  },
  {
   "cell_type": "markdown",
   "metadata": {
    "application/vnd.databricks.v1+cell": {
     "cellMetadata": {
      "byteLimit": 2048000,
      "rowLimit": 10000
     },
     "inputWidgets": {},
     "nuid": "a19fe38a-bc65-450d-8217-4ae0beb9fb12",
     "showTitle": false,
     "tableResultSettingsMap": {},
     "title": ""
    }
   },
   "source": [
    "Distribution of numerical variables"
   ]
  },
  {
   "cell_type": "code",
   "execution_count": 0,
   "metadata": {
    "application/vnd.databricks.v1+cell": {
     "cellMetadata": {
      "byteLimit": 2048000,
      "rowLimit": 10000
     },
     "inputWidgets": {},
     "nuid": "c372b2d8-3c8c-4415-8c69-1d0e09e86249",
     "showTitle": false,
     "tableResultSettingsMap": {},
     "title": ""
    }
   },
   "outputs": [],
   "source": [
    "# Data Collect\n",
    "data_ax = df.select(*discrete_numerical, *continuos_numerical).toPandas()\n",
    "# Histoplots of Numerical Variables\n",
    "GraphicsData(data_ax).numerical_histograms()"
   ]
  },
  {
   "cell_type": "code",
   "execution_count": 0,
   "metadata": {
    "application/vnd.databricks.v1+cell": {
     "cellMetadata": {
      "byteLimit": 2048000,
      "rowLimit": 10000
     },
     "inputWidgets": {},
     "nuid": "b6ecec74-eace-40a6-94df-7e199586a8e9",
     "showTitle": false,
     "tableResultSettingsMap": {},
     "title": ""
    }
   },
   "outputs": [],
   "source": [
    "# Boxplots of Numerical Variables\n",
    "GraphicsData(data_ax).numerical_boxplots(showfliers = True)"
   ]
  },
  {
   "cell_type": "code",
   "execution_count": 0,
   "metadata": {
    "application/vnd.databricks.v1+cell": {
     "cellMetadata": {
      "byteLimit": 2048000,
      "rowLimit": 10000
     },
     "inputWidgets": {},
     "nuid": "0c919869-19ab-4f7d-aeec-8d929d1dd802",
     "showTitle": false,
     "tableResultSettingsMap": {},
     "title": ""
    }
   },
   "outputs": [],
   "source": [
    "find_outliers(spark = spark, df_num = df.select(*discrete_numerical, *continuos_numerical))"
   ]
  },
  {
   "cell_type": "markdown",
   "metadata": {
    "application/vnd.databricks.v1+cell": {
     "cellMetadata": {
      "byteLimit": 2048000,
      "rowLimit": 10000
     },
     "inputWidgets": {},
     "nuid": "08db88cd-d0d8-45ae-ab4d-b5c75fe1cd72",
     "showTitle": false,
     "tableResultSettingsMap": {},
     "title": ""
    }
   },
   "source": [
    "\n",
    "### Initial observations and insights:\n",
    "---\n",
    "\n",
    "- 1 - This dataset has a little over **10,000 records**, so it is a small dataset. This brings us some limitations regarding the statistical inferences that will be made in the analyses, and also regarding the training of models, it will be a little more difficult to train them and make them have a good generalization of the data.\n",
    "---\n",
    "- 2 - There is no **null data** or **duplicate data** in this dataset, which is a very positive thing.\n",
    "---\n",
    "- 3 - This dataset has as its main source of data **numerical variables**, corresponding to **70% of the data**, therefore, only **30% of the data** is **categorical**.\n",
    "---\n",
    "- 4 - The average age of customers is **46 years**, which indicates that we have a more mature profile and customer experience. Therefore, it is possible to hypothesize that, due to this factor, they tend to be more demanding regarding the services provided by the bank through credit cards.\n",
    "---\n",
    "- 5 - Customers have, on average, **2 dependents**, which can be a significant factor in understanding the profile of this banking institution's customers.\n",
    "---\n",
    "- 6 - On average, customers have been in a relationship with the bank for **35 months (about 3 years)**, which initially seems to be a positive thing, but it could be a factor that needs to be improved.\n",
    "---\n",
    "- 7 - Customers, on average, maintain approximately **4 products** offered by the bank. Therefore, this could be a factor that should be questioned and analyzed more carefully, so that it is possible to determine the influence of this factor on the turnover rate of this institution's customers.\n",
    "---\n",
    "- 8 - Most customers are **married, about 46%**, which can provide us with more information about the products and services to be offered to this customer profile.\n",
    "---\n",
    "- 9 - Most customers are **graduates**, around 30%.\n",
    "---\n",
    "- 10 - Most customers earn less than **$40,000** per year.\n",
    "---\n",
    "- 11 - On average, customers tend to use **27%** of their credit card limit.\n",
    "---\n",
    "- 12 - The **Blue** card is the most common category of credit cards, with around **93%** of participation.\n",
    "---\n",
    "- 13 - There is a balance between the number of male and female customers, with a slight majority of women.\n",
    "---\n",
    "- 14 - Initially, I considered the **IQR** as a parameter to define the existence of **outliers** in this dataset. Some numeric variables have data that, statistically, can be considered outliers. The **Credit_Limit** variable, for example, has 9.72% of data that can be considered outliers. However, all data and numeric columns will be analyzed to verify whether they are part of the **natural distribution** of this dataset or whether they are **incorrect data**.\n",
    "\n",
    "---\n"
   ]
  },
  {
   "cell_type": "markdown",
   "metadata": {
    "application/vnd.databricks.v1+cell": {
     "cellMetadata": {
      "byteLimit": 2048000,
      "rowLimit": 10000
     },
     "inputWidgets": {},
     "nuid": "4fe5117b-0c15-4154-8145-2da3f99c3f77",
     "showTitle": false,
     "tableResultSettingsMap": {},
     "title": ""
    }
   },
   "source": [
    "## 3 - Data Preparation\n",
    "---\n",
    "\n",
    "- In this step, I will initially divide the training and testing data so that the testing data does not interfere in the analyses, so that the model does not have any bias from the testing data, and only with the training data is it capable of generating good classifications with good generalization.\n",
    "---\n",
    "- Next, an EDA will be conducted to verify the data and its main characteristics. In this EDA, the main objective will be to understand the relationship of the data with the churn rate of this banking institution.\n",
    "---"
   ]
  },
  {
   "cell_type": "markdown",
   "metadata": {
    "application/vnd.databricks.v1+cell": {
     "cellMetadata": {
      "byteLimit": 2048000,
      "rowLimit": 10000
     },
     "inputWidgets": {},
     "nuid": "6bf4f772-0c84-4051-a600-f0561856a185",
     "showTitle": false,
     "tableResultSettingsMap": {},
     "title": ""
    }
   },
   "source": [
    "### Adjusting dataset targets\n",
    "---\n",
    "\n",
    "I will adjust the target column, which is attrition_flag. Since it is a categorical column with binary classification:\n",
    "\n",
    "---\n",
    "\n",
    "- **Existing Customer (Non-churner)**: will receive the **value 0**. \n",
    "\n",
    "  These are customers who still use the credit card services provided by the bank.\n",
    "\n",
    "---\n",
    "\n",
    "- **Attrited Customer (Churner)**: will receive the **value 1**. \n",
    "\n",
    "  These are customers who have stopped using the credit card services.\n",
    "\n",
    "---\n",
    "\n",
    "This approach will make it easier to calculate correlation statistics between variables since the target variable is already indexed.\n",
    "\n",
    "---"
   ]
  },
  {
   "cell_type": "code",
   "execution_count": 0,
   "metadata": {
    "application/vnd.databricks.v1+cell": {
     "cellMetadata": {
      "byteLimit": 2048000,
      "rowLimit": 10000
     },
     "inputWidgets": {},
     "nuid": "5de3273a-e537-40ee-a859-5483cb7b8282",
     "showTitle": false,
     "tableResultSettingsMap": {},
     "title": ""
    }
   },
   "outputs": [],
   "source": [
    "# Indexing and adjusting the target column name\n",
    "df_clean = df.withColumn('churn_target', F.when(F.col('attrition_flag') == 'Existing Customer', 0).otherwise(1).cast(IntegerType()))\n",
    "\n",
    "# Saving previously cleaned and adjusted data to a new dataframe\n",
    "df_clean = df_clean.drop('attrition_flag')\n",
    "\n",
    "# Adjusting the list of nominal variables\n",
    "nominal_categorical.remove('attrition_flag')\n",
    "\n",
    "# Check new df\n",
    "df_clean.limit(5).display()"
   ]
  },
  {
   "cell_type": "markdown",
   "metadata": {
    "application/vnd.databricks.v1+cell": {
     "cellMetadata": {
      "byteLimit": 2048000,
      "rowLimit": 10000
     },
     "inputWidgets": {},
     "nuid": "a5d9d4f7-c96b-4678-b617-bb6023fbe5fd",
     "showTitle": false,
     "tableResultSettingsMap": {},
     "title": ""
    }
   },
   "source": [
    "\n",
    "### Silver Data Tier"
   ]
  },
  {
   "cell_type": "code",
   "execution_count": 0,
   "metadata": {
    "application/vnd.databricks.v1+cell": {
     "cellMetadata": {
      "byteLimit": 2048000,
      "rowLimit": 10000
     },
     "inputWidgets": {},
     "nuid": "35d7f3b3-05cb-4cf6-adbb-b5daf1cf2b69",
     "showTitle": false,
     "tableResultSettingsMap": {},
     "title": ""
    }
   },
   "outputs": [],
   "source": [
    "# File location and type\n",
    "file_location = '/Volumes/workspace/projects-data-science/churn-project-data/silver'\n",
    "file_type = 'parquet'\n",
    "\n",
    "# Save  Clean Dataset\n",
    "DataSpark(spark = spark, dataframe = df_clean, file_location = file_location).save_data(file_type = file_type)\n",
    "\n",
    "# Reading Dataset\n",
    "df = DataSpark(spark = spark, file_location = file_location).load_data(file_type = file_type)\n",
    "\n",
    "# Check Dataset\n",
    "df.limit(10).display()"
   ]
  },
  {
   "cell_type": "markdown",
   "metadata": {
    "application/vnd.databricks.v1+cell": {
     "cellMetadata": {
      "byteLimit": 2048000,
      "rowLimit": 10000
     },
     "inputWidgets": {},
     "nuid": "65397338-d50e-434c-8de1-21e882351d3a",
     "showTitle": false,
     "tableResultSettingsMap": {},
     "title": ""
    }
   },
   "source": [
    "### Splitting the Training and Testing data\n",
    "---\n",
    "* From here on, all analyses will be based on the **training dataset**, which will represent **80%** of the total dataset. I chose to separate the data from this point on to avoid **leaking test data**, since this data cannot be influenced by the analysis or modeling applied to the training data.\n",
    "\n",
    "---\n",
    "\n",
    "* I will be using pyspark randomSplit function, I will be looking for an equal division in the distribution of targets in this data set.\n",
    "\n",
    "---"
   ]
  },
  {
   "cell_type": "code",
   "execution_count": 0,
   "metadata": {
    "application/vnd.databricks.v1+cell": {
     "cellMetadata": {
      "byteLimit": 2048000,
      "rowLimit": 10000
     },
     "inputWidgets": {},
     "nuid": "83245de9-acbc-43cd-90e0-4c3f9e780565",
     "showTitle": false,
     "tableResultSettingsMap": {},
     "title": ""
    }
   },
   "outputs": [],
   "source": [
    "# Df data\n",
    "df.groupBy('churn_target') \\\n",
    "    .agg(F.count('churn_target').alias('frequency')) \\\n",
    "    .withColumn('percentage', F.round((F.col('frequency') / df.count()) * 100, 2)) \\\n",
    "    .orderBy('frequency', ascending = False) \\\n",
    "    .display()  "
   ]
  },
  {
   "cell_type": "code",
   "execution_count": 0,
   "metadata": {
    "application/vnd.databricks.v1+cell": {
     "cellMetadata": {
      "byteLimit": 2048000,
      "rowLimit": 10000
     },
     "inputWidgets": {},
     "nuid": "08d915e7-8871-4a20-a186-fa94a24493ce",
     "showTitle": false,
     "tableResultSettingsMap": {},
     "title": ""
    }
   },
   "outputs": [],
   "source": [
    "train, test = df.randomSplit([0.8, 0.2], seed = 10) "
   ]
  },
  {
   "cell_type": "code",
   "execution_count": 0,
   "metadata": {
    "application/vnd.databricks.v1+cell": {
     "cellMetadata": {
      "byteLimit": 2048000,
      "rowLimit": 10000
     },
     "inputWidgets": {},
     "nuid": "07665511-afa9-43bc-a5ca-16da05eaa01e",
     "showTitle": false,
     "tableResultSettingsMap": {},
     "title": ""
    }
   },
   "outputs": [],
   "source": [
    "# Training data\n",
    "train.groupBy('churn_target') \\\n",
    "    .agg(F.count('churn_target').alias('frequency')) \\\n",
    "    .withColumn('percentage', F.round((F.col('frequency') / train.count()) * 100, 2)) \\\n",
    "    .orderBy('frequency', ascending = False) \\\n",
    "    .display()  "
   ]
  },
  {
   "cell_type": "code",
   "execution_count": 0,
   "metadata": {
    "application/vnd.databricks.v1+cell": {
     "cellMetadata": {
      "byteLimit": 2048000,
      "rowLimit": 10000
     },
     "inputWidgets": {},
     "nuid": "4f06dc4b-cfa8-457f-b1f9-5f46d628df76",
     "showTitle": false,
     "tableResultSettingsMap": {},
     "title": ""
    }
   },
   "outputs": [],
   "source": [
    "# Test data\n",
    "test.groupBy('churn_target') \\\n",
    "    .agg(F.count('churn_target').alias('frequency')) \\\n",
    "    .withColumn('percentage', F.round((F.col('frequency') / test.count()) * 100, 2)) \\\n",
    "    .orderBy('frequency', ascending = False) \\\n",
    "    .display()  "
   ]
  },
  {
   "cell_type": "markdown",
   "metadata": {
    "application/vnd.databricks.v1+cell": {
     "cellMetadata": {
      "byteLimit": 2048000,
      "rowLimit": 10000
     },
     "inputWidgets": {},
     "nuid": "81c63ae8-7119-4002-826f-b6edd0861e2e",
     "showTitle": false,
     "tableResultSettingsMap": {},
     "title": ""
    }
   },
   "source": [
    "### Exploratory Data Analysis - EDA"
   ]
  },
  {
   "cell_type": "markdown",
   "metadata": {
    "application/vnd.databricks.v1+cell": {
     "cellMetadata": {
      "byteLimit": 2048000,
      "rowLimit": 10000
     },
     "inputWidgets": {},
     "nuid": "5cd11b6f-3785-4b14-93b3-ce36908f3bcd",
     "showTitle": false,
     "tableResultSettingsMap": {},
     "title": ""
    }
   },
   "source": [
    "#### Checking the churn rate"
   ]
  },
  {
   "cell_type": "code",
   "execution_count": 0,
   "metadata": {
    "application/vnd.databricks.v1+cell": {
     "cellMetadata": {
      "byteLimit": 2048000,
      "rowLimit": 10000
     },
     "inputWidgets": {},
     "nuid": "ba858d19-3dc3-44b2-99c1-d41909f866d7",
     "showTitle": false,
     "tableResultSettingsMap": {},
     "title": ""
    }
   },
   "outputs": [],
   "source": [
    "# Data collect\n",
    "train_churn = train.groupBy('churn_target') \\\n",
    "    .agg(F.count('churn_target').alias('frequency')) \\\n",
    "    .withColumn('percentage', F.round((F.col('frequency') / train.count()) * 100, 2)) \\\n",
    "    .withColumn('churn_target',F.when(F.col('churn_target') == 1, 'Churners').otherwise('Non-Churners')) \\\n",
    "    .orderBy('frequency', ascending = False)\n",
    "\n",
    "# Data of graphics\n",
    "data_ax = train_churn.toPandas()"
   ]
  },
  {
   "cell_type": "code",
   "execution_count": 0,
   "metadata": {
    "application/vnd.databricks.v1+cell": {
     "cellMetadata": {
      "byteLimit": 2048000,
      "rowLimit": 10000
     },
     "inputWidgets": {},
     "nuid": "1cf897ff-d639-4eeb-aa36-352a0a5cee51",
     "showTitle": false,
     "tableResultSettingsMap": {},
     "title": ""
    }
   },
   "outputs": [],
   "source": [
    "GraphicsData(data_ax).barplot_target(\n",
    "    target_col = 'churn_target', \n",
    "    percentage_col = 'percentage', \n",
    "    title = 'Churn Rate of Training Data'\n",
    ")"
   ]
  },
  {
   "cell_type": "markdown",
   "metadata": {
    "application/vnd.databricks.v1+cell": {
     "cellMetadata": {
      "byteLimit": 2048000,
      "rowLimit": 10000
     },
     "inputWidgets": {},
     "nuid": "084e269d-1257-4c98-8568-63f145026df7",
     "showTitle": false,
     "tableResultSettingsMap": {},
     "title": ""
    }
   },
   "source": [
    "- In this dataset, the rate of customers who abandon credit card services is **16.01%**, while **83.99%** of customers continue to use the bank's services.\n",
    "---\n",
    "- Taking into account a basic principle of simple statistics, it is possible to observe that, for every **100 customers**, at least **16** of them discontinued credit card services.\n",
    "---\n",
    "- This dataset has imbalanced classes, which can be a factor to be considered when training machine learning models. Datasets with imbalanced classes make it more difficult to train and generalize model classifications, especially for **minority** classes. In general, models tend to learn more easily to predict the **majority class**, while they have more difficulty in detecting **minority classes**.\n",
    "\n",
    "---"
   ]
  },
  {
   "cell_type": "markdown",
   "metadata": {
    "application/vnd.databricks.v1+cell": {
     "cellMetadata": {
      "byteLimit": 2048000,
      "rowLimit": 10000
     },
     "inputWidgets": {},
     "nuid": "0cb7d469-d631-462d-a5de-f0f60f727769",
     "showTitle": false,
     "tableResultSettingsMap": {},
     "title": ""
    }
   },
   "source": [
    "#### Checking the distributions of numerical variables"
   ]
  },
  {
   "cell_type": "code",
   "execution_count": 0,
   "metadata": {
    "application/vnd.databricks.v1+cell": {
     "cellMetadata": {
      "byteLimit": 2048000,
      "rowLimit": 10000
     },
     "inputWidgets": {},
     "nuid": "bdaaa95e-7803-4d3c-bf11-25c5786d961f",
     "showTitle": false,
     "tableResultSettingsMap": {},
     "title": ""
    }
   },
   "outputs": [],
   "source": [
    "data_ax = train.select(*discrete_numerical, *continuos_numerical).toPandas()\n",
    "GraphicsData(data_ax).numerical_histograms()"
   ]
  },
  {
   "cell_type": "markdown",
   "metadata": {
    "application/vnd.databricks.v1+cell": {
     "cellMetadata": {
      "byteLimit": 2048000,
      "rowLimit": 10000
     },
     "inputWidgets": {},
     "nuid": "9561eb0c-7ba8-4a93-9b5f-3febda747327",
     "showTitle": false,
     "tableResultSettingsMap": {},
     "title": ""
    }
   },
   "source": [
    "#### Observations and insights regarding numerical data\n",
    "---\n",
    "- 1 - The **age of customers** is more widely distributed between the **40** and **50 age groups**, with **49** being the most frequent age group in these data.\n",
    "---\n",
    "- 2 - Most customers have between **2** and **3 dependents**, with a minority having 5 dependents.\n",
    "---\n",
    "- 3 - The length of the **customer's relationship** with the bank varies from **13** to **56 months**, with **36 months** being the most frequent.\n",
    "---\n",
    "- 4 - The **number of products** maintained by the customer is generally above **3 products**, with few customers maintaining only **1** or **2 products**.\n",
    "---\n",
    "- 5 - Most **customers remain inactive** for a maximum of **3 months**, with only a small fraction remaining inactive for **4** to **6 months**.\n",
    "---\n",
    "- 6 - The **number of contacts** in the last 12 months was, in most cases, **2** to **3 contacts**.\n",
    "---\n",
    "- 7 - The **number of transactions** is mostly distributed between **60** and **80 transactions**, with a very small portion of customers making less than **20** or more than **100 transactions**.\n",
    "---\n",
    "- 8 - Most customers have a **credit limit** of less than **5,000 dollars**, although there is a relatively significant portion of customers with a limit of **35,000 dollars**.\n",
    "---\n",
    "- 9 -Most customers have a **zero credit card revolving balance**, which is relatively positive, indicating that most customers are up to date with their bill payments.\n",
    "---\n",
    "- 10 - The **average open to buy**  is below **5,000 dollars**.\n",
    "---\n",
    "- 11 - Most credit **card limit utilization** is below **20%**, with a small portion of customers using more than **80%** of their credit card limit."
   ]
  },
  {
   "cell_type": "markdown",
   "metadata": {
    "application/vnd.databricks.v1+cell": {
     "cellMetadata": {
      "byteLimit": 2048000,
      "rowLimit": 10000
     },
     "inputWidgets": {},
     "nuid": "636793a4-c249-4c44-be79-218f5caa0f4d",
     "showTitle": false,
     "tableResultSettingsMap": {},
     "title": ""
    }
   },
   "source": [
    "#### Checking the distribution of categorical variables"
   ]
  },
  {
   "cell_type": "code",
   "execution_count": 0,
   "metadata": {
    "application/vnd.databricks.v1+cell": {
     "cellMetadata": {
      "byteLimit": 2048000,
      "rowLimit": 10000
     },
     "inputWidgets": {},
     "nuid": "01bbcfa2-b100-4986-bafc-9dcbeceb2621",
     "showTitle": false,
     "tableResultSettingsMap": {},
     "title": ""
    }
   },
   "outputs": [],
   "source": [
    "# Data collect\n",
    "data_ax = train.select(*nominal_categorical, *ordinal_categorical).toPandas()\n",
    "# Categorical Countplots\n",
    "GraphicsData(data_ax).categorical_countplots()"
   ]
  },
  {
   "cell_type": "markdown",
   "metadata": {
    "application/vnd.databricks.v1+cell": {
     "cellMetadata": {
      "byteLimit": 2048000,
      "rowLimit": 10000
     },
     "inputWidgets": {},
     "nuid": "65a60e30-72e9-4dc3-b57a-0c2ab5744927",
     "showTitle": false,
     "tableResultSettingsMap": {},
     "title": ""
    }
   },
   "source": [
    "\n",
    "#### Observations and insights regarding categorical data\n",
    "---\n",
    "\n",
    "- 1 - The majority of clients are women, with a percentage of **52.5%**.\n",
    "---\n",
    "- 2 - **46.1%** of clients are **married**, while **39.3%** are **single**. There is a small portion of **7.4%** of **divorced** clients and another portion of **7.2%** of clients who do **not fit** into any of the above categories.\n",
    "---\n",
    "- 3 - The majority of clients have a **Graduate** level of education, with **31%**. This status refers to people who have already graduated and completed a specialization in the area they studied.\n",
    "\n",
    "  **High School** represents **20.1%**. This status refers to people who have already graduated and completed high school.\n",
    "\n",
    "  **Unknown** represents **14.7%**. This status refers to people who possibly did not fill out the form or did not fit into any of the above classifications.\n",
    "\n",
    "  **Uneducated** represents **14.6%**. This status refers to people who have not had access to formal education or have not completed a significant level of study.\n",
    "\n",
    "  **College** represents **9.9%**. This status refers to higher education.\n",
    "\n",
    "  Finally, the **Postgraduate** and **Doctorate** statuses have the smallest shares. **Postgraduate** is basically a synonym for **Graduate**, both referring to the same status, while **Doctorate** refers to the highest level of study.\n",
    "---\n",
    "- 4 - The majority of clients, **34.9%**, have an income below **40k**.\n",
    "\n",
    "  **17.7%** of clients have an income between **40k and 60k**.\n",
    "\n",
    "  **14%** have an income between **60k and 80k**.\n",
    "\n",
    "  **15.3%** have an income between **80k and 120k**.\n",
    "\n",
    "  **10.9%** did not fill out this information or do not fit into any of the categories above.\n",
    "\n",
    "  A smaller portion, **7.3%**, has an income above **120k** per year.\n",
    "---\n",
    "- 5 - **93.1%** of customers have a **Blue** credit card, which is the dominant class. Next comes the **Silver** credit card with **5.6%**, and the **Gold** and **Platinum** cards with a small share of participation that is practically nil."
   ]
  },
  {
   "cell_type": "markdown",
   "metadata": {
    "application/vnd.databricks.v1+cell": {
     "cellMetadata": {
      "byteLimit": 2048000,
      "rowLimit": 10000
     },
     "inputWidgets": {},
     "nuid": "1e6982e1-ff08-4abb-953e-dac111a61d43",
     "showTitle": false,
     "tableResultSettingsMap": {},
     "title": ""
    }
   },
   "source": [
    "#### Checking the correlation of numerical variables with the cause of the problem"
   ]
  },
  {
   "cell_type": "code",
   "execution_count": 0,
   "metadata": {
    "application/vnd.databricks.v1+cell": {
     "cellMetadata": {
      "byteLimit": 2048000,
      "rowLimit": 10000
     },
     "inputWidgets": {},
     "nuid": "1267ddcd-e92a-4e29-9b95-665ae917eff7",
     "showTitle": false,
     "tableResultSettingsMap": {},
     "title": ""
    }
   },
   "outputs": [],
   "source": [
    "# Data collect\n",
    "data_ax = train.select(*continuos_numerical, *discrete_numerical, 'churn_target').toPandas()\n",
    "# Correlation Heatmap\n",
    "GraphicsData(data_ax).correlation_heatmap(title = 'Correlation Matrix Of Variables with Churn Rate')"
   ]
  },
  {
   "cell_type": "markdown",
   "metadata": {
    "application/vnd.databricks.v1+cell": {
     "cellMetadata": {
      "byteLimit": 2048000,
      "rowLimit": 10000
     },
     "inputWidgets": {},
     "nuid": "c0600638-b1ce-4765-b982-755cf78dcc6c",
     "showTitle": false,
     "tableResultSettingsMap": {},
     "title": ""
    }
   },
   "source": [
    "Variables ordered by correlation with the churn target variable:"
   ]
  },
  {
   "cell_type": "code",
   "execution_count": 0,
   "metadata": {
    "application/vnd.databricks.v1+cell": {
     "cellMetadata": {
      "byteLimit": 2048000,
      "rowLimit": 10000
     },
     "inputWidgets": {},
     "nuid": "307ffbe1-243f-43a0-928e-fa9b26a36f17",
     "showTitle": false,
     "tableResultSettingsMap": {},
     "title": ""
    }
   },
   "outputs": [],
   "source": [
    "data_ax.corr()['churn_target'].abs().sort_values(ascending = False)"
   ]
  },
  {
   "cell_type": "markdown",
   "metadata": {
    "application/vnd.databricks.v1+cell": {
     "cellMetadata": {
      "byteLimit": 2048000,
      "rowLimit": 10000
     },
     "inputWidgets": {},
     "nuid": "be6c4d0f-e6e6-4f36-b4bb-ddde2fc0ee1f",
     "showTitle": false,
     "tableResultSettingsMap": {},
     "title": ""
    }
   },
   "source": [
    "#### Observations and insights on the correlation of numeric variables with the 'churn_target' variable.\n",
    "---\n",
    "**Considering that a customer who churns has a value of 1 and a customer who does not churn has a value of 0:**\n",
    "\n",
    "---\n",
    "- 1 - **total_trans_ct** is the variable with the highest correlation with the **churn_target** variable, with a negative correlation of **-0.37**. This indicates that the lower the number of transactions in the last 12 months, the greater the likelihood that customers will stop using credit card services.\n",
    "---\n",
    "- 2 - **total_ct_chng_q4_q1** had a correlation of **-0.28**. This column represents the change in the number of transactions between the fourth quarter (Q4) of the previous year and the first quarter (Q1). The lower this index, the greater the possibility of the customer stopping using the credit card.\n",
    "---\n",
    "- 3 - Customers with a lower **revolving balance** are more likely to become **inactive**, while customers with a higher revolving balance tend to continue using the bank's credit card services. It is interesting to note that, even with a **higher revolving balance**, which can lead to possible future debt, these customers tend to remain **active customers** of the institution.\n",
    "---\n",
    "- 4 - The **number of contacts** made in the last 12 months showed a **positive correlation**, indicating that a higher number of contacts is statistically associated with the rate of **inactive customers**.\n",
    "---\n",
    "- 5 - The **use of the credit card limit** has a **negative correlation** with customers who have abandoned the credit card service, that is, the **lower the use of the card**, the greater the possibility of them becoming **inactive**. On the other hand, the greater the use of the credit card limit, the greater the possibility of the customer continuing to use the service.\n",
    "---\n",
    "- 6 - The **number of services** has a negative correlation with customers who have stopped using the credit card; the **fewer the number of services**, the greater the possibility of the customer becoming **inactive**.\n",
    "---\n",
    "- 7 - The **number of inactive months** has a **positive correlation** with inactive customers, since the higher this number, the greater the possibility of the customer becoming inactive.\n",
    "---\n",
    "- 8 - **total_amt_chng_q4_q1** has a **negative correlation** with inactive customers; the lower the total value of the variations between the fourth quarter (Q4) of the previous year and the first quarter (Q1), the greater the possibility of the customer becoming inactive.\n",
    "---\n",
    "- 9 - The variables ​​​​**avg_open_to_buy** and **credit_limit** have a **perfect correlation**, indicating that these two variables are passing the same information to future machine learning models.\n",
    "---\n",
    "- 10 - The **other variables** do not have a very relevant correlation with the **churn_target** variable.\n",
    "---\n",
    "- 11 - Initially, it is possible to conclude that the **number of transactions** carried out by customers in recent months has a **very strong and important correlation** with the problem in question, which is the abandonment of credit card customers. The **two variables** that most clearly relate to the **churn_target** variable are variables that provide information about the **number of transactions carried out by customers**. Therefore, it is now possible to question and create a hypothesis about this fact."
   ]
  },
  {
   "cell_type": "code",
   "execution_count": 0,
   "metadata": {
    "application/vnd.databricks.v1+cell": {
     "cellMetadata": {
      "byteLimit": 2048000,
      "rowLimit": 10000
     },
     "inputWidgets": {},
     "nuid": "0369a4bd-3a75-46e0-ae58-c62ebaf42aae",
     "showTitle": false,
     "tableResultSettingsMap": {},
     "title": ""
    }
   },
   "outputs": [],
   "source": [
    "# Data collect\n",
    "data_ax = train.select(*continuos_numerical, *discrete_numerical, 'churn_target').toPandas()\n",
    "# Numerical Histograms By Churn Rate\n",
    "GraphicsData(data = data_ax).numerical_histograms(\n",
    "    hue = 'churn_target',\n",
    "    title='Histoplots Of Numerical Variables Grouped By Churn Rate'\n",
    ")"
   ]
  },
  {
   "cell_type": "code",
   "execution_count": 0,
   "metadata": {
    "application/vnd.databricks.v1+cell": {
     "cellMetadata": {
      "byteLimit": 2048000,
      "rowLimit": 10000
     },
     "inputWidgets": {},
     "nuid": "548d29de-8f8e-42df-b411-53f6e60c647b",
     "showTitle": false,
     "tableResultSettingsMap": {},
     "title": ""
    }
   },
   "outputs": [],
   "source": [
    "GraphicsData(data_ax).numerical_barplots(hue = 'churn_target', legend = ['Non-Churner', 'Churner'])"
   ]
  },
  {
   "cell_type": "code",
   "execution_count": 0,
   "metadata": {
    "application/vnd.databricks.v1+cell": {
     "cellMetadata": {
      "byteLimit": 2048000,
      "rowLimit": 10000
     },
     "inputWidgets": {},
     "nuid": "a394cf07-97a1-4aa6-a6f1-c41d1cef10cb",
     "showTitle": false,
     "tableResultSettingsMap": {},
     "title": ""
    }
   },
   "outputs": [],
   "source": [
    "GraphicsData(data_ax).numerical_boxplots(hue = 'churn_target', legend = ['Non-churner', 'Churner'])"
   ]
  },
  {
   "cell_type": "markdown",
   "metadata": {
    "application/vnd.databricks.v1+cell": {
     "cellMetadata": {
      "byteLimit": 2048000,
      "rowLimit": 10000
     },
     "inputWidgets": {},
     "nuid": "5d67594b-11c5-46d8-8d70-f866fa6d9acf",
     "showTitle": false,
     "tableResultSettingsMap": {},
     "title": ""
    }
   },
   "source": [
    "\n",
    "#### Observations and insights into the of numeric variables with the 'churn_target' variable.\n",
    "---\n",
    "- 1 - In the variable **total_revolving_bal**, it is possible to observe that a greater distribution of customers who stopped using their credit card is in the **lowest revolving balance values**. A significant portion of these customers have a revolving balance **below \\$500**.\n",
    "---\n",
    "- 2 - In the variable **total_trans_amt**, it is possible to observe that customers who stopped using their credit card have a greater distribution in the **lower transfer values**. Most of these customers made a total of **transfers below \\$2750**.\n",
    "---\n",
    "- 3 - In the variable **total_ct_chng_q4_q1**, it is possible to observe that most customers who kept their credit card service active had an increase of at least **50%** in the number of transactions carried out in relation to Q4 and Q1.\n",
    "---\n",
    "- 4 - In the **avg_utilization_ratio** variable, it is possible to observe that most customers who stopped using their credit card have practically **not used their credit card limit** in the last few months.\n",
    "---\n",
    "- 5 - In the **contacts_count_12_mon** variable, it is possible to observe that most customers who stopped using their credit card have a **number of contacts greater than or equal to 3**.\n",
    "---\n",
    "- 6 - In the **total_trans_ct** variable, it is possible to observe that most customers who stopped using the credit card have a number **below 80 transactions in the last 12 months**. And all customers who have **95 transactions or more** continued to use the credit card.\n",
    "---\n",
    "- 7 - The value of the revolving balances of customers who stopped using their credit cards is relatively lower, around **45% less**, than that of customers who continued using their credit cards.\n",
    "---\n",
    "- 8 - The total transfer values ​​in recent months are lower for customers who stopped using their credit cards.\n",
    "---\n",
    "- 9 - Customers who continued using their credit cards have a reasonably higher number of services.\n",
    "---\n",
    "- 10 - Customers who stopped using their credit cards have a higher number of inactive months and a higher number of contacts in the last 12 months.\n",
    "---\n",
    "- 11 - Customers who stopped using their credit cards had about **34% fewer transactions** compared to customers who continued using their credit card service in the last 12 months.\n",
    "---"
   ]
  },
  {
   "cell_type": "markdown",
   "metadata": {
    "application/vnd.databricks.v1+cell": {
     "cellMetadata": {
      "byteLimit": 2048000,
      "rowLimit": 10000
     },
     "inputWidgets": {},
     "nuid": "4e7e136a-59d7-4e19-86b0-be4ec33a28cf",
     "showTitle": false,
     "tableResultSettingsMap": {},
     "title": ""
    }
   },
   "source": [
    "#### Checking the relationship of the numeric variables together with the total_trans_ct variable with the churn_target variable"
   ]
  },
  {
   "cell_type": "code",
   "execution_count": 0,
   "metadata": {
    "application/vnd.databricks.v1+cell": {
     "cellMetadata": {
      "byteLimit": 2048000,
      "rowLimit": 10000
     },
     "inputWidgets": {},
     "nuid": "d73a9b97-6f53-4905-b616-763d7bc1a057",
     "showTitle": false,
     "tableResultSettingsMap": {},
     "title": ""
    }
   },
   "outputs": [],
   "source": [
    "# Scatterplots vs total_trans_ct Grouped By Churn Rate\n",
    "GraphicsData(data_ax).scatterplots_vs_reference(\n",
    "    x_reference = 'total_trans_ct',\n",
    "    hue = 'churn_target',\n",
    "    title = 'Scatterplot Of Numeric Variables x total_trans_ct Grouped By Churn Rate'\n",
    ")"
   ]
  },
  {
   "cell_type": "markdown",
   "metadata": {
    "application/vnd.databricks.v1+cell": {
     "cellMetadata": {
      "byteLimit": 2048000,
      "rowLimit": 10000
     },
     "inputWidgets": {},
     "nuid": "b9db6ec8-aa8e-41c1-b48d-5ceb045e0412",
     "showTitle": false,
     "tableResultSettingsMap": {},
     "title": ""
    }
   },
   "source": [
    "\n",
    "#### Observations and insights into the of numeric variables x  total_trans_ct with the 'churn_target' variable.\n",
    "---\n",
    "- 1 - The variable **total_trans_ct** has a very strong correlation with the variable **churn_target**. Therefore, I chose to check its dispersion with the other variables, grouped by the target variable **churn_target**.\n",
    "\n",
    "The combinations that best defined a good separation between **Non_churners** and **Churners** customers were:\n",
    "\n",
    "- **total_trans_ct** x **total_trans_amt**\n",
    "- **total_trans_ct** x **total_ct_chng_q4_q1**\n",
    "- **total_trans_ct** x **total_ct_chng_q4_q1**\n",
    "\n",
    "These variables refer to the quantity or total value of transactions, reinforcing the previous observations that the number of transactions and their total value reflect, in a certain way, the possible behavior of the customer, indicating whether he or she will continue to use the credit card or stop using it.\n",
    "\n",
    "---\n",
    "- 2 - The variables **total_revolving_bal** and **avg_utilization_ratio**, together with the variable **total_trans_ct**, had a reasonable separation of the **Churn** and **Non-churn** classes, although there was a greater dispersion in the graphs of these two variables.\n",
    "\n",
    "---\n"
   ]
  },
  {
   "cell_type": "markdown",
   "metadata": {
    "application/vnd.databricks.v1+cell": {
     "cellMetadata": {
      "byteLimit": 2048000,
      "rowLimit": 10000
     },
     "inputWidgets": {},
     "nuid": "fe66e545-f712-4df5-af7b-07148b40c9a2",
     "showTitle": false,
     "tableResultSettingsMap": {},
     "title": ""
    }
   },
   "source": [
    "#### Checking the relationship of categorical variables with the cause of the problem\n",
    "---\n",
    "\n",
    "- Checking the statistical relationship of categorical variables using the Chi-Square Test\n",
    "\n",
    "- **Note**:\n",
    "To submit categorical variables to the Chi-Square Test it will be necessary to index them first.\n",
    "\n",
    "---"
   ]
  },
  {
   "cell_type": "code",
   "execution_count": 0,
   "metadata": {
    "application/vnd.databricks.v1+cell": {
     "cellMetadata": {
      "byteLimit": 2048000,
      "rowLimit": 10000
     },
     "inputWidgets": {},
     "nuid": "226cb646-a468-4535-bd4d-5578152120e2",
     "showTitle": false,
     "tableResultSettingsMap": {
      "0": {
       "dataGridStateBlob": "{\"version\":1,\"tableState\":{\"columnPinning\":{\"left\":[\"#row_number#\"],\"right\":[]},\"columnSizing\":{},\"columnVisibility\":{}},\"settings\":{\"columns\":{}},\"syncTimestamp\":1755116956509}",
       "filterBlob": null,
       "queryPlanFiltersBlob": null,
       "tableResultIndex": 0
      }
     },
     "title": ""
    }
   },
   "outputs": [],
   "source": [
    "train_idx = train.select(*ordinal_categorical, *nominal_categorical, 'churn_target') \\\n",
    "    .withColumn('education_level', \n",
    "                F.when(F.col('education_level') == 'Unknown', 0)\n",
    "                .when(F.col('education_level') == 'Uneducated', 1)\n",
    "                .when(F.col('education_level') == 'High School', 2)\n",
    "                .when(F.col('education_level') == 'College', 3)\n",
    "                .when(F.col('education_level') == 'Graduate', 4)\n",
    "                .when(F.col('education_level') == 'Post-Graduate', 5)\n",
    "                .when(F.col('education_level') == 'Doctorate', 6)\n",
    "                .otherwise(None)\n",
    "                .cast(IntegerType())\n",
    "    ) \\\n",
    "    .withColumn('income_category', \n",
    "                F.when(F.col('income_category') == 'Unknown', 0)\n",
    "                .when(F.col('income_category') == 'Less than $40K', 1)\n",
    "                .when(F.col('income_category') == '$40K - $60K', 2)\n",
    "                .when(F.col('income_category') == '$60K - $80K', 3) \n",
    "                .when(F.col('income_category') == '$80K - $120K', 4)\n",
    "                .when(F.col('income_category') == '$120K +', 5)\n",
    "                .otherwise(None)\n",
    "                .cast(IntegerType())\n",
    "    ) \\\n",
    "    .withColumn('card_category', \n",
    "                F.when(F.col('card_category') == 'Blue', 0)\n",
    "                .when(F.col('card_category') == 'Silver', 1)\n",
    "                .when(F.col('card_category') == 'Gold', 2)\n",
    "                .when(F.col('card_category') == 'Platinum', 3)\n",
    "                .otherwise(None)\n",
    "                .cast(IntegerType())\n",
    "    ) \\\n",
    "    .withColumn('gender', \n",
    "                F.when(F.col('gender') == 'F', 0)\n",
    "                .when(F.col('gender') == 'M', 1)\n",
    "                .otherwise(None)\n",
    "                .cast(IntegerType())\n",
    "    ) \\\n",
    "    .withColumn('marital_status', \n",
    "                F.when(F.col('marital_status') == 'Unknown', 0)\n",
    "                .when(F.col('marital_status') == 'Single', 1)\n",
    "                .when(F.col('marital_status') == 'Married', 2)\n",
    "                .when(F.col('marital_status') == 'Divorced', 3)\n",
    "                .otherwise(None)\n",
    "                .cast(IntegerType())\n",
    "    )\n",
    "\n",
    "\n",
    "train_idx.limit(3).display()"
   ]
  },
  {
   "cell_type": "code",
   "execution_count": 0,
   "metadata": {
    "application/vnd.databricks.v1+cell": {
     "cellMetadata": {
      "byteLimit": 2048000,
      "rowLimit": 10000
     },
     "inputWidgets": {},
     "nuid": "d0adce2c-8c6b-426d-b58f-5b35e276587d",
     "showTitle": false,
     "tableResultSettingsMap": {},
     "title": ""
    }
   },
   "outputs": [],
   "source": [
    "train_idx = train_idx.toPandas()\n",
    "x = train_idx[['education_level', 'income_category', 'card_category', 'gender','marital_status']]\n",
    "y = train_idx['churn_target']\n",
    "\n",
    "chi_stat, p_value = chi2(x, y)\n",
    "chi_results = pd.DataFrame({\n",
    "    'cat_variables': x.columns,\n",
    "    'chi_score': chi_stat, \n",
    "    'p_value': p_value\n",
    "  })\n",
    "chi_results"
   ]
  },
  {
   "cell_type": "markdown",
   "metadata": {
    "application/vnd.databricks.v1+cell": {
     "cellMetadata": {
      "byteLimit": 2048000,
      "rowLimit": 10000
     },
     "inputWidgets": {},
     "nuid": "71eee347-22c4-45ea-9dfb-5bccf7ec9eec",
     "showTitle": false,
     "tableResultSettingsMap": {},
     "title": ""
    }
   },
   "source": [
    "#### Observations and insights on the Chi-Square Test of category variables with the 'churn_target' variable.\n",
    "---\n",
    "- Initially, the statistical tests used on the categorical variables showed that they did not have much of a relationship with the churn rate.\n",
    "---\n",
    "- The variable **gender** showed a significant relationship if we consider its p_value, but its chi_score is too low to be considered statistically relevant.\n",
    "---"
   ]
  },
  {
   "cell_type": "code",
   "execution_count": 0,
   "metadata": {
    "application/vnd.databricks.v1+cell": {
     "cellMetadata": {
      "byteLimit": 2048000,
      "rowLimit": 10000
     },
     "inputWidgets": {},
     "nuid": "3f1f61b3-ceb4-438f-9336-533b7abf3552",
     "showTitle": false,
     "tableResultSettingsMap": {},
     "title": ""
    }
   },
   "outputs": [],
   "source": [
    "# Data collect\n",
    "data_ax = train.select(*ordinal_categorical, *nominal_categorical, 'churn_target').toPandas()\n",
    "# Categorical Countplots by Churn\n",
    "GraphicsData(data_ax).categorical_countplots(\n",
    "    hue = 'churn_target',\n",
    "    title = 'Countplot of categorical variables by Churn Rate',\n",
    ")"
   ]
  },
  {
   "cell_type": "code",
   "execution_count": 0,
   "metadata": {
    "application/vnd.databricks.v1+cell": {
     "cellMetadata": {
      "byteLimit": 2048000,
      "rowLimit": 10000
     },
     "inputWidgets": {},
     "nuid": "73af52e3-c4d1-41ba-a6e4-cec29ed7318d",
     "showTitle": false,
     "tableResultSettingsMap": {},
     "title": ""
    }
   },
   "outputs": [],
   "source": [
    "GraphicsData(data_ax).categorical_bar_percentages(\n",
    "    hue = 'churn_target',\n",
    "    title = 'Barplots Of The Individual Churn Rate Percentages Of Each Column Class'\n",
    ")"
   ]
  },
  {
   "cell_type": "markdown",
   "metadata": {
    "application/vnd.databricks.v1+cell": {
     "cellMetadata": {
      "byteLimit": 2048000,
      "rowLimit": 10000
     },
     "inputWidgets": {},
     "nuid": "d1d57934-2862-458a-90f4-addd184a5eff",
     "showTitle": false,
     "tableResultSettingsMap": {},
     "title": ""
    }
   },
   "source": [
    "#### Observations and insights on categorical variables with the 'churn_target' variable\n",
    "---\n",
    "- 1 - The **level of education** does not demonstrate a very strong relationship with the rate of customers who stopped using credit card services. Considering that this variable is classified according to the levels of education, it was expected that the higher or lower the level of education, the more likely these customers would choose to continue using the credit card service.\n",
    "\n",
    "- However, it is possible to draw some observations regarding this data, as it directly affects the institution's possible decision-making.\n",
    "- The level of education with the highest churn rate is the **Doctorate**, with around **22.9%**. The lowest rates are the **Graduate** levels, with **15%**, and **High School**, with **15.1%** of churn rate.\n",
    "---\n",
    "- 2 - **Customers' annual income** does not have a significant influence on the rate of customers who stopped using their credit cards, as all salary ranges follow a practically similar distribution in relation to the churn rate index. Only customers with a salary range of **60k - 80k** had a churn rate of **13.3%**, which is slightly lower compared to the other salary ranges.\n",
    "---\n",
    "- 3 - The **credit card category** shows a significant relationship with the rate of customers who stopped using their credit cards. The **Gold** and **Platinum** categories had a higher-than-average rate of credit card service cancellations compared to the other categories. However, these two categories represent a very small percentage of this data set; together, they do not even have a **2%** share in relation to the other categories.\n",
    "---\n",
    "- 4 - The **Silver** category is the category with the lowest rate of credit card service cancellations **with a 14.1% churn rate**.\n",
    "---\n",
    "- 5 - Considering the data from this banking institution, it is possible to conclude that the rate of customers with the **Silver**, **Gold** and **Platinum** card brands is very low. We have **93%** of customers with the initial brand, which is the basic **Azul** card. It would be of great value for this institution to invest in a more flexible policy in its card categories. Offering more benefits to its customers and differentiated services through the **Silver**, **Gold** and **Platinum** brands can increase the loyalty rate of its customers.\n",
    "---\n",
    "- 6 - The **gender** of customers declared to have a specific relationship with the churn rate. Women reported having a higher rate of cancellation of the card service than men.\n",
    "---\n",
    "- 7 - The **relationship status** is graphically revealed to have a specific relationship with the churn rate indexes. **Married customers** have a **slightly lower** churn rate index than **single customers**.\n",
    "---\n",
    "- 8 - Initially considering the statistical data and graphs of these categorical variables, it is possible to conclude that they do not have a satisfactory relevance in solving the problem of this institution, which would be the turnover rate. However, we have some variables that somehow present some differences in their classes regarding the churn rate index, which directly affect these variables is the distorted distribution of these variables such as **marital_status and card_category**.\n",
    "---\n",
    "- 9 - At first, I will be keeping these variables and I will analyze their performance during the pre-training process of the models and I will see if it is viable to keep them or discard them.\n",
    "\n",
    "---"
   ]
  },
  {
   "cell_type": "markdown",
   "metadata": {
    "application/vnd.databricks.v1+cell": {
     "cellMetadata": {
      "byteLimit": 2048000,
      "rowLimit": 10000
     },
     "inputWidgets": {},
     "nuid": "788ba378-f590-4247-ab21-6477660ca360",
     "showTitle": false,
     "tableResultSettingsMap": {},
     "title": ""
    }
   },
   "source": [
    "#### Hypothesis testing H0 and H1\n",
    "\n",
    "- I will be considering the main variables that in the analyses demonstrated to have a significant relationship with the churn rate indices of this banking institution."
   ]
  },
  {
   "cell_type": "code",
   "execution_count": 0,
   "metadata": {
    "application/vnd.databricks.v1+cell": {
     "cellMetadata": {
      "byteLimit": 2048000,
      "rowLimit": 10000
     },
     "inputWidgets": {},
     "nuid": "2d980684-80f8-4964-beaa-cffaf4022204",
     "showTitle": false,
     "tableResultSettingsMap": {},
     "title": ""
    }
   },
   "outputs": [],
   "source": [
    "train_h_test = train.toPandas()"
   ]
  },
  {
   "cell_type": "markdown",
   "metadata": {
    "application/vnd.databricks.v1+cell": {
     "cellMetadata": {
      "byteLimit": 2048000,
      "rowLimit": 10000
     },
     "inputWidgets": {},
     "nuid": "b4a18696-b5ea-4e1f-b603-5290fed62a87",
     "showTitle": false,
     "tableResultSettingsMap": {},
     "title": ""
    }
   },
   "source": [
    "##### Hypothesis test with the variable: total_trans_ct"
   ]
  },
  {
   "cell_type": "code",
   "execution_count": 0,
   "metadata": {
    "application/vnd.databricks.v1+cell": {
     "cellMetadata": {
      "byteLimit": 2048000,
      "rowLimit": 10000
     },
     "inputWidgets": {},
     "nuid": "f66c9f71-8564-4a64-ae8b-18576a1e5d38",
     "showTitle": false,
     "tableResultSettingsMap": {},
     "title": ""
    }
   },
   "outputs": [],
   "source": [
    "ttest_between_groups(\n",
    "    data = train_h_test,\n",
    "    numerical_col = 'total_trans_ct',\n",
    "    group_col = 'churn_target',   \n",
    ")"
   ]
  },
  {
   "cell_type": "markdown",
   "metadata": {
    "application/vnd.databricks.v1+cell": {
     "cellMetadata": {
      "byteLimit": 2048000,
      "rowLimit": 10000
     },
     "inputWidgets": {},
     "nuid": "4a6762d0-697c-4fbd-855b-279bdac43100",
     "showTitle": false,
     "tableResultSettingsMap": {},
     "title": ""
    }
   },
   "source": [
    "##### Hypothesis test with the variable: total_trans_amt"
   ]
  },
  {
   "cell_type": "code",
   "execution_count": 0,
   "metadata": {
    "application/vnd.databricks.v1+cell": {
     "cellMetadata": {
      "byteLimit": 2048000,
      "rowLimit": 10000
     },
     "inputWidgets": {},
     "nuid": "188a7826-76cc-4a4a-9fb7-0dd55069f529",
     "showTitle": false,
     "tableResultSettingsMap": {},
     "title": ""
    }
   },
   "outputs": [],
   "source": [
    "ttest_between_groups(\n",
    "    data = train_h_test,\n",
    "    numerical_col = 'total_trans_amt',\n",
    "    group_col = 'churn_target',   \n",
    ")"
   ]
  },
  {
   "cell_type": "markdown",
   "metadata": {
    "application/vnd.databricks.v1+cell": {
     "cellMetadata": {
      "byteLimit": 2048000,
      "rowLimit": 10000
     },
     "inputWidgets": {},
     "nuid": "9f7cde03-db2c-4da5-bd19-947640a2ef64",
     "showTitle": false,
     "tableResultSettingsMap": {},
     "title": ""
    }
   },
   "source": [
    "##### Hypothesis test with the variable: total_revolving_bal"
   ]
  },
  {
   "cell_type": "code",
   "execution_count": 0,
   "metadata": {
    "application/vnd.databricks.v1+cell": {
     "cellMetadata": {
      "byteLimit": 2048000,
      "rowLimit": 10000
     },
     "inputWidgets": {},
     "nuid": "0e60a35e-7766-4bd0-bdd1-e71c658dd2e6",
     "showTitle": false,
     "tableResultSettingsMap": {},
     "title": ""
    }
   },
   "outputs": [],
   "source": [
    "ttest_between_groups(\n",
    "    data = train_h_test,\n",
    "    numerical_col = 'total_revolving_bal',\n",
    "    group_col = 'churn_target',   \n",
    ")"
   ]
  },
  {
   "cell_type": "markdown",
   "metadata": {
    "application/vnd.databricks.v1+cell": {
     "cellMetadata": {
      "byteLimit": 2048000,
      "rowLimit": 10000
     },
     "inputWidgets": {},
     "nuid": "be295602-2825-43cc-a59e-a1044e0e68c3",
     "showTitle": false,
     "tableResultSettingsMap": {},
     "title": ""
    }
   },
   "source": [
    "##### Hypothesis test with the variable: avg_utilization_ratio"
   ]
  },
  {
   "cell_type": "code",
   "execution_count": 0,
   "metadata": {
    "application/vnd.databricks.v1+cell": {
     "cellMetadata": {
      "byteLimit": 2048000,
      "rowLimit": 10000
     },
     "inputWidgets": {},
     "nuid": "9dbf09c8-8eb1-4477-bc0e-3a5d2130a76f",
     "showTitle": false,
     "tableResultSettingsMap": {},
     "title": ""
    }
   },
   "outputs": [],
   "source": [
    "ttest_between_groups(\n",
    "    data = train_h_test,\n",
    "    numerical_col = 'avg_utilization_ratio',\n",
    "    group_col = 'churn_target',   \n",
    ")"
   ]
  },
  {
   "cell_type": "markdown",
   "metadata": {
    "application/vnd.databricks.v1+cell": {
     "cellMetadata": {
      "byteLimit": 2048000,
      "rowLimit": 10000
     },
     "inputWidgets": {},
     "nuid": "a7948a8f-628c-478e-9c54-dae79832a247",
     "showTitle": false,
     "tableResultSettingsMap": {},
     "title": ""
    }
   },
   "source": [
    "##### Hypothesis test with the variable: total_relationship_count"
   ]
  },
  {
   "cell_type": "code",
   "execution_count": 0,
   "metadata": {
    "application/vnd.databricks.v1+cell": {
     "cellMetadata": {
      "byteLimit": 2048000,
      "rowLimit": 10000
     },
     "inputWidgets": {},
     "nuid": "d333bdad-b0e6-4cd0-88ed-fb2bebe3930c",
     "showTitle": false,
     "tableResultSettingsMap": {},
     "title": ""
    }
   },
   "outputs": [],
   "source": [
    "ttest_between_groups(\n",
    "    data = train_h_test,\n",
    "    numerical_col = 'total_relationship_count',\n",
    "    group_col = 'churn_target',   \n",
    ")"
   ]
  },
  {
   "cell_type": "markdown",
   "metadata": {
    "application/vnd.databricks.v1+cell": {
     "cellMetadata": {
      "byteLimit": 2048000,
      "rowLimit": 10000
     },
     "inputWidgets": {},
     "nuid": "2011cf52-471d-4b85-bf62-06ff9dcde394",
     "showTitle": false,
     "tableResultSettingsMap": {},
     "title": ""
    }
   },
   "source": [
    "##### Hypothesis test with the variable: months_inactive_12_mon"
   ]
  },
  {
   "cell_type": "code",
   "execution_count": 0,
   "metadata": {
    "application/vnd.databricks.v1+cell": {
     "cellMetadata": {
      "byteLimit": 2048000,
      "rowLimit": 10000
     },
     "inputWidgets": {},
     "nuid": "6befbb8c-eea2-4698-9e09-b3a93e69a4e2",
     "showTitle": false,
     "tableResultSettingsMap": {},
     "title": ""
    }
   },
   "outputs": [],
   "source": [
    "ttest_between_groups(\n",
    "    data = train_h_test,\n",
    "    numerical_col = 'months_inactive_12_mon',\n",
    "    group_col = 'churn_target',   \n",
    ")"
   ]
  },
  {
   "cell_type": "markdown",
   "metadata": {
    "application/vnd.databricks.v1+cell": {
     "cellMetadata": {
      "byteLimit": 2048000,
      "rowLimit": 10000
     },
     "inputWidgets": {},
     "nuid": "4139a0b0-6cc6-46e9-ae05-140abced4f5c",
     "showTitle": false,
     "tableResultSettingsMap": {},
     "title": ""
    }
   },
   "source": [
    "### Saving training and testing data\n",
    "---\n",
    "\n",
    "- Removing the **avg_open_to_buy** column as it has a perfect fit with **credit_limit**. I will choose to continue with credit_limit as it has shown to be slightly more associated with the target variable."
   ]
  },
  {
   "cell_type": "code",
   "execution_count": 0,
   "metadata": {
    "application/vnd.databricks.v1+cell": {
     "cellMetadata": {
      "byteLimit": 2048000,
      "rowLimit": 10000
     },
     "inputWidgets": {},
     "nuid": "49dbd9ed-45da-48db-8fa5-1f9cdb999674",
     "showTitle": false,
     "tableResultSettingsMap": {},
     "title": ""
    }
   },
   "outputs": [],
   "source": [
    "# Drop redundantes continuos variables\n",
    "# Train data\n",
    "train = train.drop('avg_open_to_buy')\n",
    "# Test data\n",
    "test = test.drop('avg_open_to_buy') "
   ]
  },
  {
   "cell_type": "markdown",
   "metadata": {
    "application/vnd.databricks.v1+cell": {
     "cellMetadata": {
      "byteLimit": 2048000,
      "rowLimit": 10000
     },
     "inputWidgets": {},
     "nuid": "0c5e8a63-6127-4ae5-aded-0bbdf613cfd5",
     "showTitle": false,
     "tableResultSettingsMap": {},
     "title": ""
    }
   },
   "source": [
    "### Gold Data Tier"
   ]
  },
  {
   "cell_type": "code",
   "execution_count": 0,
   "metadata": {
    "application/vnd.databricks.v1+cell": {
     "cellMetadata": {
      "byteLimit": 2048000,
      "rowLimit": 10000
     },
     "inputWidgets": {},
     "nuid": "ecefbed2-84b6-4cb5-9ec6-b148e0c71193",
     "showTitle": false,
     "tableResultSettingsMap": {},
     "title": ""
    }
   },
   "outputs": [],
   "source": [
    "# Train Data\n",
    "# File location and type\n",
    "file_location = '/Volumes/workspace/projects-data-science/churn-project-data/gold/train'\n",
    "file_type = 'parquet'\n",
    "\n",
    "# Save Train Dataset\n",
    "DataSpark(spark = spark, dataframe = train, file_location = file_location).save_data(file_type = file_type)"
   ]
  },
  {
   "cell_type": "code",
   "execution_count": 0,
   "metadata": {
    "application/vnd.databricks.v1+cell": {
     "cellMetadata": {
      "byteLimit": 2048000,
      "rowLimit": 10000
     },
     "inputWidgets": {},
     "nuid": "14312db2-3835-40a2-8e6f-0eb8d5641560",
     "showTitle": false,
     "tableResultSettingsMap": {},
     "title": ""
    }
   },
   "outputs": [],
   "source": [
    "# Test Data\n",
    "# File location and type\n",
    "file_location = '/Volumes/workspace/projects-data-science/churn-project-data/gold/test'\n",
    "file_type = 'parquet'\n",
    "\n",
    "# Save Test Dataset\n",
    "DataSpark(spark = spark, dataframe = test, file_location = file_location).save_data(file_type = file_type)"
   ]
  },
  {
   "cell_type": "markdown",
   "metadata": {
    "application/vnd.databricks.v1+cell": {
     "cellMetadata": {
      "byteLimit": 2048000,
      "rowLimit": 10000
     },
     "inputWidgets": {},
     "nuid": "d233016d-b527-4775-b3a9-fe8d27d8f0e1",
     "showTitle": false,
     "tableResultSettingsMap": {},
     "title": ""
    }
   },
   "source": [
    "### EDA Conclusions\n",
    "---\n",
    "\n",
    "- Through the hypothesis test, it is possible to conclude that the number of transactions made by customers using their credit cards has a significant impact on the churn rate. In the distribution graphs, it is possible to see that the number of transactions for customers who stopped using the credit card services of this institution is much lower. The average number of transactions made by **non-churner customers is almost 69**, while that of **churner customers is 45 transactions**.\n",
    "---\n",
    "- Also through the hypothesis test, it is possible to conclude that the total value of transactions made by customers using their credit cards has a significant impact on the churn rate. Most customers who stopped using credit card services had a total value of **transactions equal to or below \\$2500**.\n",
    "---\n",
    "- The credit card limit utilization rate demonstrated to have a very high significance in relation to the churn rate of this institution, and this fact was validated through the hypothesis test. In this data, there is an **asymmetric distribution with a very long tail to the right**, indicating that most of the credit card limit usage values ​​are in the **lowest values**. This is something to be explored by the stakeholders of this institution, since most of its customers use a **limit much lower than expected**, which can be a problem, since most of the bank's **profits from the credit card** are associated with customer usage. Regarding this problem, we have **non-churner** customers with an **average of 29%** limit usage and **churners** with an **average of 16%** limit usage.\n",
    "---\n",
    "- The number of services maintained on their card by the customer has been shown to have a significant impact on the churn rate of this institution, and this was also proven in the hypothesis tests.\n",
    "---\n",
    "- The **credit limit of credit cards** has an **asymmetric distribution**, with most of the limits **below \\$5000**. This is linked to the customer profile, as most have an annual income **below $40k**. However, the possibility of having a more flexible policy regarding limit increases can be assessed together with the institution's stakeholders, considering the default rate of its customers.\n",
    "---\n",
    "- The **card categories** need to be restructured with more flexible policies regarding the **Silver, Gold and Platinum categories**, as these three categories together represent **less than 7% of the total number of customers**. The **Blue card** category has **93.1% of the total number of customers**, indicating that most customers only keep the initial credit card brand. This may not be a positive factor for the bank, considering that the benefits and advantages tend to be greater than those of cards above the Blue category, and with these advantages it is natural for there to be greater and more continuous customer loyalty.\n",
    "---\n",
    "- Churners had a rate of **26% more contacts with the bank**, it is important for the bank to understand and seek to meet the requests of these customers.\n",
    "---\n",
    "- Most of this institution's customers were inactive for three months or less. And we have churners **with 18% more months of inactivity** than non-churners who continued using credit card services, indicating that customer inactivity is a problem that the bank must address and explore in potential solutions.\n",
    "---"
   ]
  }
 ],
 "metadata": {
  "application/vnd.databricks.v1+notebook": {
   "computePreferences": null,
   "dashboards": [],
   "environmentMetadata": {
    "base_environment": "",
    "environment_version": "2"
   },
   "inputWidgetPreferences": null,
   "language": "python",
   "notebookMetadata": {
    "pythonIndentUnit": 4
   },
   "notebookName": "0_EDA",
   "widgets": {}
  },
  "language_info": {
   "name": "python"
  }
 },
 "nbformat": 4,
 "nbformat_minor": 0
}
