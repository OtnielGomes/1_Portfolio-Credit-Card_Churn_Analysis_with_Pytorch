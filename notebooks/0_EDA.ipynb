{
 "cells": [
  {
   "cell_type": "code",
   "execution_count": 0,
   "metadata": {
    "application/vnd.databricks.v1+cell": {
     "cellMetadata": {
      "byteLimit": 2048000,
      "rowLimit": 10000
     },
     "inputWidgets": {},
     "nuid": "06cfd1ef-f8a6-4f1a-aa56-0f26b4fff661",
     "showTitle": false,
     "tableResultSettingsMap": {},
     "title": ""
    }
   },
   "outputs": [],
   "source": [
    "%load_ext autoreload\n",
    "%autoreload 2\n",
    "# Enables autoreload; learn more at https://docs.databricks.com/en/files/workspace-modules.html#autoreload-for-python-modules\n",
    "# To disable autoreload; run %autoreload 0"
   ]
  },
  {
   "cell_type": "markdown",
   "metadata": {
    "application/vnd.databricks.v1+cell": {
     "cellMetadata": {},
     "inputWidgets": {},
     "nuid": "d555477a-f91f-4dc2-a5fd-b634aa2ca93f",
     "showTitle": false,
     "tableResultSettingsMap": {},
     "title": ""
    }
   },
   "source": [
    "\n",
    "# Credit Card Churn Analysis\n",
    "---  \n",
    "\n",
    "## Project Description \n",
    "In this project, I will be working with a dataset provided by **Kaggle**, where I will develop a churn-rate analysis. The goal is to identify the causes and reasons for customer churn from a banking institution in relation to credit card services. After understanding these causes and reasons, some machine learning models will be developed to predict potential customers who will be abandoning the credit card service of this institution. With these predictions, I will seek to develop solutions to prevent or reverse the churn of these customers.  \n",
    "\n",
    "---  \n",
    "\n",
    "### CRISP-DM Methodology  \n",
    "The project will follow the CRISP-DM (*Cross-Industry Standard Process for Data Mining*) framework:  \n",
    "\n",
    "| **Stage** | **Objective** | **Key Actions** |  \n",
    "|-----------|---------------|------------------|  \n",
    "| **1. Business Understanding** | Define the impact of churn prediction on customer retention. | - Identify costs of false negatives.<br>- Align metrics with business KPIs. |  \n",
    "| **2. Data Understanding** | Analyze data structure, quality, and variable relationships. | - Exploratory Data Analysis (EDA).<br>- Outlier and correlation detection. |  \n",
    "| **3. Data Preparation** | Prepare data for model training. | - Split training and test data.<br>- Remove redundant variables. |  \n",
    "| **4. Modeling** | Train and compare classical models and neural networks. | - Random Forest/Logistic Regression (baseline).<br>- PyTorch neural network (focus on generalization). |  \n",
    "| **5. Evaluation** | Validate performance with business-oriented metrics. | - AUC-ROC, confusion matrix.<br>- Simulate financial impact. |  \n",
    "| **6. Deployment** | Deploy the model for production use. | - Build a final churn prediction model with customer behavior indicators. |  \n",
    "\n",
    "*This notebook covers the Business Understanding, Data Understanding, and Data Preparation.*  \n",
    "\n",
    "---  \n"
   ]
  },
  {
   "cell_type": "code",
   "execution_count": 0,
   "metadata": {
    "application/vnd.databricks.v1+cell": {
     "cellMetadata": {
      "byteLimit": 2048000,
      "rowLimit": 10000
     },
     "inputWidgets": {},
     "nuid": "52f7af73-d50d-4d4e-9db3-98f8306f2523",
     "showTitle": false,
     "tableResultSettingsMap": {},
     "title": ""
    }
   },
   "outputs": [],
   "source": [
    "%pip install seaborn==0.13.2"
   ]
  },
  {
   "cell_type": "markdown",
   "metadata": {
    "application/vnd.databricks.v1+cell": {
     "cellMetadata": {},
     "inputWidgets": {},
     "nuid": "70bffb53-e6b6-48ea-9fe9-7a335144a234",
     "showTitle": false,
     "tableResultSettingsMap": {},
     "title": ""
    }
   },
   "source": [
    "## Imports:\n"
   ]
  },
  {
   "cell_type": "code",
   "execution_count": 0,
   "metadata": {
    "application/vnd.databricks.v1+cell": {
     "cellMetadata": {
      "byteLimit": 2048000,
      "rowLimit": 10000
     },
     "inputWidgets": {},
     "nuid": "f7b87f85-f713-4667-83b4-baced5a44fc9",
     "showTitle": false,
     "tableResultSettingsMap": {},
     "title": ""
    }
   },
   "outputs": [],
   "source": [
    "# Data analizing/preparation:\n",
    "# PySpark.SQL\n",
    "from pyspark.sql import functions as F\n",
    "from pyspark.sql import DataFrame\n",
    "from pyspark.sql.types import IntegerType\n",
    "from pyspark.sql.types import NumericType\n",
    "# Numpy \n",
    "import numpy as np\n",
    "# Pandas\n",
    "import pandas as pd\n",
    "# Sklearning features\n",
    "from sklearn.feature_selection import chi2\n",
    "# Scipy\n",
    "from scipy.stats import ttest_ind\n",
    "\n",
    "# Graphics:\n",
    "# Matplotlib\n",
    "import matplotlib.pyplot as plt\n",
    "# Seaborn\n",
    "import seaborn as sns\n",
    "\n",
    "# SRC/ Functions Utils\n",
    "import sys\n",
    "sys.path.append('/Workspace/Repos/otniel.g.andrade@outlook.com/1_Portfolio-Credit-Card_Churn_Analysis_with_Pytorch/src')\n",
    "from data_manipulation import DataSpark\n",
    "from visualization import GraphicsData"
   ]
  },
  {
   "cell_type": "markdown",
   "metadata": {
    "application/vnd.databricks.v1+cell": {
     "cellMetadata": {
      "byteLimit": 2048000,
      "rowLimit": 10000
     },
     "inputWidgets": {},
     "nuid": "7b1c0c44-d2fd-40f7-85fe-79ae3119dfba",
     "showTitle": false,
     "tableResultSettingsMap": {},
     "title": ""
    }
   },
   "source": [
    "\n",
    "## 1 - Business Understanding  \n",
    "---\n",
    "\n",
    "### General Problem Context  \n",
    "#### What is Churn Rate, and What Are the Solutions to This Problem? \n",
    "Many companies struggle with customer churn and often find it challenging to reverse this trend. The metric that measures this scenario is called **churn rate**, which indicates when strategic solutions are needed to address the issue.  \n",
    "\n",
    "In 2020, Bryce Baer published a guide on churn rate on the [Zendesk website](https://www.zendesk.com.br/blog/customer-churn-rate/?_ga=2.155312252.614584228.1623244699-1365810980.1622555740#) – a company specializing in corporate software development. The guide highlights that businesses implementing strategies to reduce churn can increase their **profitability** by nearly 40%.  \n",
    "\n",
    "---\n",
    "\n",
    "#### How to Calculate Churn Rate?\n",
    "##### Churn Rate Formula:  \n",
    "$$\\text{Churn Rate} = \\frac{\\text{Number of customers lost during a period}}{\\text{Total number of customers at the start of the period}} \\times 100$$  \n",
    "\n",
    "---\n",
    "\n",
    "#### Impacts of a High Churn Rate\n",
    "While reducing churn to zero is practically impossible, acceptable rates (4% to 5%) minimize financial impacts. Some companies operate at higher rates (5% to 7%) without significant revenue loss, depending on industry dynamics. **Key factors to define \"acceptable\" churn**:  \n",
    "- Industry standards (e.g., SaaS vs. retail).  \n",
    "- Customer lifetime value (CLV).  \n",
    "- Customer acquisition cost (CAC).  \n",
    "\n",
    "---\n",
    "\n",
    "#### Reasons for Customer Churn\n",
    "1. **Lack of Perceived Value**:  \n",
    "   - Occurs when there’s a growing gap between customer expectations and actual delivery. Clear communication about product/service benefits is critical.  \n",
    "2. **Poor Customer Experience**:  \n",
    "   - Negative interactions (e.g., bad support, complex processes, product failures) drive churn.  \n",
    "3. **Competitor Offers**:  \n",
    "   - Attractive promotions or pricing from competitors can lure customers away.  \n",
    "4. **Changing Customer Needs**:  \n",
    "   - Failure to adapt products/services to evolving demands leads to turnover.  \n",
    "\n",
    "---\n",
    "\n",
    "## Project Challenge: \n",
    "The bank’s manager has observed a rising number of customers abandoning credit card services. Stakeholders aim to:  \n",
    "1. **Analyze historical data** to identify root causes of churn.  \n",
    "2. **Develop a machine learning model** to predict customer churn probability.  \n",
    "3. **Implement strategic actions** to retain high-risk customers.  \n",
    "\n",
    "---\n",
    "\n",
    "## KPIs for the Churn Prediction Project:  \n",
    "1. **Churn Rate**:  \n",
    "   - *Definition*: Percentage of customers who discontinue credit card services within a specific period.  \n",
    "   - *Goal*: Reduce this metric through targeted retention strategies.  \n",
    "\n",
    "2. **Retention Rate**:  \n",
    "   - *Definition*: Percentage of customers retained after a period.  \n",
    "   - *Importance*: Directly reflects the success of retention efforts.  \n",
    "\n",
    "3. **Customer Acquisition Cost (CAC) vs. Retention Cost**:  \n",
    "   - *Definition*: Ratio of costs to acquire new customers vs. retaining existing ones.  \n",
    "   - *Insight*: Retention is typically **5-7x cheaper** than acquisition.  \n",
    "\n",
    "4. **AUC-ROC (Area Under the Receiver Operating Characteristic Curve)**:  \n",
    "   - *Definition*: Measures the model’s ability to distinguish between churners and non-churners.  \n",
    "   - *Target*: AUC-ROC > 0.85.  \n",
    "\n",
    "5. **Recall**:  \n",
    "   - *Definition*: Proportion of actual churners correctly identified by the model.  \n",
    "   - *Importance*: High recall ensures fewer **false negatives** (missed churners), which is critical because a false negative could result in losing a customer. Retaining existing customers through targeted strategies is significantly cheaper than acquiring new ones.  \n",
    "\n",
    "---\n",
    "\n"
   ]
  },
  {
   "cell_type": "markdown",
   "metadata": {
    "application/vnd.databricks.v1+cell": {
     "cellMetadata": {},
     "inputWidgets": {},
     "nuid": "ff674737-4154-4e06-a532-101c9e129c4b",
     "showTitle": false,
     "tableResultSettingsMap": {},
     "title": ""
    }
   },
   "source": [
    "## 2 - Data Understanding\n",
    "\n",
    "---\n",
    "\n",
    "* This dataset consists of 10,000 customers mentioning their age, salary, marital_status, credit card limit, credit card category, etc.\n",
    "\n",
    "---\n",
    "\n",
    "- **Data file**: - BankChurners.csv\n",
    "\n",
    "---\n",
    "\n",
    "- **Target dependent variable**: - 'Attrition_Flag', categorical column with binary classification, i.e. 'Existing Customer'(No-churner) or 'Attrited Customer'(Churner).\n",
    "\n",
    "---\n",
    "\n",
    "- **The dataset colleted from kaggle**: https://www.kaggle.com/datasets/sakshigoyal7/credit-card-customers?sort=votes&select=BankChurners.csv\n",
    "\n",
    "---\n",
    "- **The dataset origin from this site**: https://leaps.analyttica.com/home\n",
    "\n",
    "---\n",
    "\n"
   ]
  },
  {
   "cell_type": "markdown",
   "metadata": {
    "application/vnd.databricks.v1+cell": {
     "cellMetadata": {},
     "inputWidgets": {},
     "nuid": "8cb944f8-21c8-4478-99ec-f6d7f769745b",
     "showTitle": false,
     "tableResultSettingsMap": {},
     "title": ""
    }
   },
   "source": [
    "### Loading Dataset\n",
    "\n",
    "I will use Medallion Architecture to organize and classify the data. This approach organizes the data into different levels of processing and refinement, making it easier to manage and analyze the data. Here is a summary of each layer:\n",
    "\n",
    "---\n",
    "\n",
    "- **Bronze Layer:**\n",
    "\n",
    "  Description: Stores the raw data, exactly as it was collected from different sources.\n",
    "  \n",
    "  Objective: Preserve the integrity of the original data, without any transformation.\n",
    "---\n",
    "- **Silver Layer:**\n",
    "\n",
    "  Description: Contains pre-processed and cleaned data.\n",
    "  \n",
    "  Objective: Perform basic transformations, such as data cleaning, standardization, and type correction.\n",
    "---\n",
    "- **Gold Layer:**\n",
    "\n",
    "  Description: Stores the refined data, ready for analysis and final consumption.\n",
    "  \n",
    "  Objective: Apply specific corrections and improvements according to business needs.\n",
    "\n",
    "---"
   ]
  },
  {
   "cell_type": "markdown",
   "metadata": {
    "application/vnd.databricks.v1+cell": {
     "cellMetadata": {},
     "inputWidgets": {},
     "nuid": "64b2df5e-9151-4e3c-9acc-ffb1a006fc81",
     "showTitle": false,
     "tableResultSettingsMap": {},
     "title": ""
    }
   },
   "source": [
    "### Bronze Data Tier"
   ]
  },
  {
   "cell_type": "code",
   "execution_count": 0,
   "metadata": {
    "application/vnd.databricks.v1+cell": {
     "cellMetadata": {
      "byteLimit": 2048000,
      "rowLimit": 10000
     },
     "inputWidgets": {},
     "nuid": "ae2c3c1d-3641-4deb-bc41-ac2232facc66",
     "showTitle": false,
     "tableResultSettingsMap": {},
     "title": ""
    }
   },
   "outputs": [],
   "source": [
    "# Creating a directory to store the files\n",
    "dbutils.fs.mkdirs('/Volumes/workspace/projects-data-science/churn-project-data/bronze')\n",
    "###### >>>>>>> Note: At this point, upload the files present in the notebook repository folder to this directory\n",
    "\n",
    "# Viewing the location of files\n",
    "display(dbutils.fs.ls('/Volumes/workspace/projects-data-science/churn-project-data/bronze'))"
   ]
  },
  {
   "cell_type": "code",
   "execution_count": 0,
   "metadata": {
    "application/vnd.databricks.v1+cell": {
     "cellMetadata": {
      "byteLimit": 2048000,
      "rowLimit": 10000
     },
     "inputWidgets": {},
     "nuid": "d7c93bf8-2bd3-4d96-93d1-ae2fa4abdeff",
     "showTitle": false,
     "tableResultSettingsMap": {},
     "title": ""
    }
   },
   "outputs": [],
   "source": [
    "# File location and type\n",
    "file_location = '/Volumes/workspace/projects-data-science/churn-project-data/bronze/BankChurners.csv'\n",
    "file_type = 'csv'\n",
    "# Load Data\n",
    "df_csv = DataSpark(spark= spark, file_location = file_location).load_data(file_type = file_type)\n",
    "# Show Data\n",
    "df_csv.limit(10).display()"
   ]
  },
  {
   "cell_type": "markdown",
   "metadata": {
    "application/vnd.databricks.v1+cell": {
     "cellMetadata": {},
     "inputWidgets": {},
     "nuid": "61507f7a-e8ad-40bd-a00c-cec0b49ac716",
     "showTitle": false,
     "tableResultSettingsMap": {},
     "title": ""
    }
   },
   "source": [
    "### Saving dataset in Parquet format for more performance at consultations"
   ]
  },
  {
   "cell_type": "code",
   "execution_count": 0,
   "metadata": {
    "application/vnd.databricks.v1+cell": {
     "cellMetadata": {
      "byteLimit": 2048000,
      "rowLimit": 10000
     },
     "inputWidgets": {},
     "nuid": "4ca81649-dffe-41fb-923f-8fe9d4fee1ff",
     "showTitle": false,
     "tableResultSettingsMap": {},
     "title": ""
    }
   },
   "outputs": [],
   "source": [
    "# File location and type\n",
    "# Creating a directory to store the files\n",
    "file_location = '/Volumes/workspace/projects-data-science/churn-project-data/bronze/parquet'\n",
    "file_type = 'parquet'\n",
    "\n",
    "# Save Data\n",
    "DataSpark(spark = spark, dataframe = df_csv, file_location = file_location).save_data(file_type = file_type)\n",
    "# Load Data\n",
    "df = DataSpark(spark = spark, file_location = file_location).load_data(file_type = file_type)\n",
    "# Show Data\n",
    "df.limit(10).display()"
   ]
  },
  {
   "cell_type": "markdown",
   "metadata": {
    "application/vnd.databricks.v1+cell": {
     "cellMetadata": {},
     "inputWidgets": {},
     "nuid": "a46bf40b-3b2a-46dd-8e90-b7271cefb0d8",
     "showTitle": false,
     "tableResultSettingsMap": {},
     "title": ""
    }
   },
   "source": [
    "### Dictionary of Dataset\n",
    "---\n",
    "\n",
    "**CLIENTNUM**: Client number. Unique identifier for the customer holding the account\n",
    "\n",
    "---\n",
    "\n",
    "**Attrition_Flag**: Internal event (customer activity) variable - if the account is closed then 'Attrited Customer' else 'Existing Customer'\n",
    "\n",
    "---\n",
    "\n",
    "**Customer_Age**: Demographic variable - Customer's Age in Years\n",
    "\n",
    "---\n",
    "\n",
    "**Gender**: Demographic variable - M=Male, F=Female\n",
    "\n",
    "---\n",
    "\n",
    "**Dependent_count**: Demographic variable - Number of dependents\n",
    "\n",
    "---\n",
    "\n",
    "**Education_Level**: Demographic variable - Educational Qualification of the account holder (example: high school, college graduate, etc.)\n",
    "\n",
    "---\n",
    "\n",
    "**Marital_Status**: Demographic variable - Married, Single, Divorced, Unknown\n",
    "\n",
    "---\n",
    "\n",
    "**Income_Category**: Demographic variable - Annual Income Category of the account holder (< $40K, $40K - 60K, $60K - $80K, $80K-$120K, >$120K)\n",
    "\n",
    "---\n",
    "\n",
    "**Card_Category**: Product Variable - Type of Card (Blue, Silver, Gold, Platinum)\n",
    "\n",
    "---\n",
    "\n",
    "**Months_on_book**: Period of relationship with bank\n",
    "\n",
    "---\n",
    "\n",
    "**Total_Relationship_Count**: Total no. of products held by the customer\n",
    "\n",
    "---\n",
    "\n",
    "**Months_Inactive_12_mon**: No. of months inactive in the last 12 months\n",
    "\n",
    "---\n",
    "\n",
    "**Contacts_Count_12_mon**: No. of Contacts in the last 12 months\n",
    "\n",
    "---\n",
    "\n",
    "**Credit_Limit**: Credit Limit on the Credit Card\n",
    "\n",
    "---\n",
    "\n",
    "**Total_Revolving_Bal**: Total Revolving Balance on the Credit Card\n",
    "\n",
    "---\n",
    "\n",
    "**Avg_Open_To_Buy**: Open to Buy Credit Line (Average of last 12 months)\n",
    "\n",
    "---\n",
    "\n",
    "**Total_Amt_Chng_Q4_Q1**: Change in Transaction Amount (Q4 over Q1)\n",
    "\n",
    "---\n",
    "\n",
    "**Total_Trans_Amt**: Total Transaction Amount (Last 12 months)\n",
    "\n",
    "---\n",
    "\n",
    "**Total_Trans_Ct**: Total Transaction Count (Last 12 months)\n",
    "\n",
    "---\n",
    "\n",
    "**Total_Ct_Chng_Q4_Q1**: Change in Transaction Count (Q4 over Q1)\n",
    "\n",
    "---\n",
    "\n",
    "**Avg_Utilization_Ratio**: Average Card Utilization Ratio\n",
    "\n",
    "---\n"
   ]
  },
  {
   "cell_type": "markdown",
   "metadata": {
    "application/vnd.databricks.v1+cell": {
     "cellMetadata": {},
     "inputWidgets": {},
     "nuid": "2792943f-1845-40be-a111-666e172f2ee3",
     "showTitle": false,
     "tableResultSettingsMap": {},
     "title": ""
    }
   },
   "source": [
    "### The Size Dataset"
   ]
  },
  {
   "cell_type": "code",
   "execution_count": 0,
   "metadata": {
    "application/vnd.databricks.v1+cell": {
     "cellMetadata": {
      "byteLimit": 2048000,
      "rowLimit": 10000
     },
     "inputWidgets": {},
     "nuid": "639c4ee1-4e02-4a05-9c3e-0f09fbeed3af",
     "showTitle": false,
     "tableResultSettingsMap": {},
     "title": ""
    }
   },
   "outputs": [],
   "source": [
    "print(f'Number of registers: {df.count()}\\nNumber of columns: {len(df.columns)}')"
   ]
  },
  {
   "cell_type": "markdown",
   "metadata": {
    "application/vnd.databricks.v1+cell": {
     "cellMetadata": {},
     "inputWidgets": {},
     "nuid": "a6faa43d-e159-4cc4-80f7-e02e5b70a3cb",
     "showTitle": false,
     "tableResultSettingsMap": {},
     "title": ""
    }
   },
   "source": [
    "### Drop Redundantes Columns:\n",
    "\n",
    "According to the documentation of this dataset that was made available by Kaggle, we were given the recommendation to remove the columns:\n",
    "\n",
    "---\n",
    "- Naive_Bayes_Classifier_Attrition_Flag_Card_Category_Contacts_Count_12_mon_Dependent_count_Education_Level_Months_Inactive_12_mon_1\n",
    "\n",
    "---\n",
    "- Naive_Bayes_Classifier_Attrition_Flag_Card_Category_Contacts_Count_12_mon_Dependent_count_Education_Level_Months_Inactive_12_mon_2\n",
    "\n",
    "---\n",
    "Therefore, I will be applying this recommendation.\n",
    "\n",
    "Will also be removing the **CLIENTNUM** column, which refers to the registration number of the customers of this banking institution. It is possible to conclude that this data will not add any relevant information to the resolution of the problems and questions to be answered with this analysis.\n",
    "\n",
    "---"
   ]
  },
  {
   "cell_type": "code",
   "execution_count": 0,
   "metadata": {
    "application/vnd.databricks.v1+cell": {
     "cellMetadata": {
      "byteLimit": 2048000,
      "rowLimit": 10000
     },
     "inputWidgets": {},
     "nuid": "bdb53d17-f1a6-4cd8-a542-7c64768ec584",
     "showTitle": false,
     "tableResultSettingsMap": {},
     "title": ""
    }
   },
   "outputs": [],
   "source": [
    "redundants_cols = [\n",
    "  'Naive_Bayes_Classifier_Attrition_Flag_Card_Category_Contacts_Count_12_mon_Dependent_count_Education_Level_Months_Inactive_12_mon_1', 'Naive_Bayes_Classifier_Attrition_Flag_Card_Category_Contacts_Count_12_mon_Dependent_count_Education_Level_Months_Inactive_12_mon_2',\n",
    "  'CLIENTNUM'\n",
    "]\n",
    "df = df.drop(* redundants_cols)\n",
    "\n",
    "# Check size Dataset\n",
    "df.count(), len(df.columns)"
   ]
  },
  {
   "cell_type": "markdown",
   "metadata": {
    "application/vnd.databricks.v1+cell": {
     "cellMetadata": {},
     "inputWidgets": {},
     "nuid": "e70fbb5c-a2de-4bb7-8df2-67e0fc012834",
     "showTitle": false,
     "tableResultSettingsMap": {},
     "title": ""
    }
   },
   "source": [
    "### Checking data and its characteristics"
   ]
  },
  {
   "cell_type": "code",
   "execution_count": 0,
   "metadata": {
    "application/vnd.databricks.v1+cell": {
     "cellMetadata": {
      "byteLimit": 2048000,
      "rowLimit": 10000
     },
     "inputWidgets": {},
     "nuid": "c49723e1-974e-4a34-9c18-31f8e892a3a2",
     "showTitle": false,
     "tableResultSettingsMap": {},
     "title": ""
    }
   },
   "outputs": [],
   "source": [
    "df.printSchema()"
   ]
  },
  {
   "cell_type": "markdown",
   "metadata": {
    "application/vnd.databricks.v1+cell": {
     "cellMetadata": {},
     "inputWidgets": {},
     "nuid": "ef58bb9b-7d3a-4a44-8f3f-c9d2c597ca83",
     "showTitle": false,
     "tableResultSettingsMap": {},
     "title": ""
    }
   },
   "source": [
    "#### Checking for null data"
   ]
  },
  {
   "cell_type": "code",
   "execution_count": 0,
   "metadata": {
    "application/vnd.databricks.v1+cell": {
     "cellMetadata": {
      "byteLimit": 2048000,
      "rowLimit": 10000
     },
     "inputWidgets": {},
     "nuid": "cd4e5da9-7375-4ff7-96fa-e92a74e0f49c",
     "showTitle": false,
     "tableResultSettingsMap": {},
     "title": ""
    }
   },
   "outputs": [],
   "source": [
    "# Size df\n",
    "size_df = df.count()\n",
    "\n",
    "# Check null data\n",
    "df.agg(*[F.round(((F.count(F.when(F.isnan(c) | F.col(c).isNull(), c)) / size_df) * 100), 2).alias(c) for c in df.columns]) \\\n",
    "    .display()"
   ]
  },
  {
   "cell_type": "code",
   "execution_count": 0,
   "metadata": {
    "application/vnd.databricks.v1+cell": {
     "cellMetadata": {
      "byteLimit": 2048000,
      "rowLimit": 10000
     },
     "inputWidgets": {},
     "nuid": "92f45b73-bce3-4e8e-8ec7-7f068fa475e2",
     "showTitle": false,
     "tableResultSettingsMap": {},
     "title": ""
    }
   },
   "outputs": [],
   "source": [
    "# Size df\n",
    "size_df = df.count()\n",
    "\n",
    "# List of results\n",
    "null_percents = []\n",
    "\n",
    "for c in df.columns:\n",
    "    if isinstance(df.schema[c].dataType, NumericType):\n",
    "        # For numerics: checks for NaN and null\n",
    "        null_count = F.count(F.when(F.isnan(c) | F.col(c).isNull(), c))\n",
    "        \n",
    "    else:\n",
    "        # For non-numerics: check only for null\n",
    "        null_count = F.count(F.when(F.col(c).isNull(), c))\n",
    "    \n",
    "    null_percents.append(\n",
    "        F.round((null_count / size_df) * 100, 2).alias(c)\n",
    "    )\n",
    "\n",
    "df.agg(*null_percents).display()"
   ]
  },
  {
   "cell_type": "markdown",
   "metadata": {
    "application/vnd.databricks.v1+cell": {
     "cellMetadata": {},
     "inputWidgets": {},
     "nuid": "29912a60-c12c-4396-8048-d4a87fabe1a6",
     "showTitle": false,
     "tableResultSettingsMap": {},
     "title": ""
    }
   },
   "source": [
    "#### Checking data duplicate "
   ]
  },
  {
   "cell_type": "code",
   "execution_count": 0,
   "metadata": {
    "application/vnd.databricks.v1+cell": {
     "cellMetadata": {
      "byteLimit": 2048000,
      "rowLimit": 10000
     },
     "inputWidgets": {},
     "nuid": "e6a69157-2291-4f71-a866-c08dd6447c74",
     "showTitle": false,
     "tableResultSettingsMap": {},
     "title": ""
    }
   },
   "outputs": [],
   "source": [
    "df.groupby(df.columns) \\\n",
    "    .count() \\\n",
    "    .filter(F.col('count') > 1) \\\n",
    "    .display()"
   ]
  },
  {
   "cell_type": "markdown",
   "metadata": {
    "application/vnd.databricks.v1+cell": {
     "cellMetadata": {},
     "inputWidgets": {},
     "nuid": "2980dd2d-60a4-41c6-bab4-a2d495c4754a",
     "showTitle": false,
     "tableResultSettingsMap": {},
     "title": ""
    }
   },
   "source": [
    "### Classifying variables\n",
    "#### Concepts for Classification of variables according to statistics:\n",
    "\n",
    "---\n",
    "\n",
    "**Quantitative or numerical variables**:\n",
    "\n",
    "* *Discrete*: only take integer values\n",
    "\n",
    "* *Continuous*: assumes any value in the range of real numbers\n",
    "\n",
    "---\n",
    "\n",
    "**Qualitative or categorical variables**:\n",
    "* *Nominals*: when categories do not have a natural order\n",
    "\n",
    "* *Ordinals*: when categories can be ordered.\n",
    "\n",
    "---"
   ]
  },
  {
   "cell_type": "markdown",
   "metadata": {
    "application/vnd.databricks.v1+cell": {
     "cellMetadata": {},
     "inputWidgets": {},
     "nuid": "c957e7cc-f391-4daf-bc6c-db8a20e42789",
     "showTitle": false,
     "tableResultSettingsMap": {},
     "title": ""
    }
   },
   "source": [
    "##### Adjusting column names"
   ]
  },
  {
   "cell_type": "code",
   "execution_count": 0,
   "metadata": {
    "application/vnd.databricks.v1+cell": {
     "cellMetadata": {
      "byteLimit": 2048000,
      "rowLimit": 10000
     },
     "inputWidgets": {},
     "nuid": "410aa05a-dc77-4d1c-b749-973f4b8e3993",
     "showTitle": false,
     "tableResultSettingsMap": {},
     "title": ""
    }
   },
   "outputs": [],
   "source": [
    "for column in df.columns:\n",
    "    \n",
    "    # Renaming columns with only lowercase letters    \n",
    "    df = df.withColumnRenamed(column, column.lower()) \\\n",
    "\n",
    "df.limit(5).display()       "
   ]
  },
  {
   "cell_type": "code",
   "execution_count": 0,
   "metadata": {
    "application/vnd.databricks.v1+cell": {
     "cellMetadata": {
      "byteLimit": 2048000,
      "rowLimit": 10000
     },
     "inputWidgets": {},
     "nuid": "be1a0549-0450-4ca1-b1b0-9b1e7a22f6dc",
     "showTitle": false,
     "tableResultSettingsMap": {},
     "title": ""
    }
   },
   "outputs": [],
   "source": [
    "# Numerical Variables\n",
    "\n",
    "discrete_numerical = [\n",
    "    'customer_age', 'dependent_count', 'months_on_book', 'total_relationship_count', 'months_inactive_12_mon', 'contacts_count_12_mon', 'total_trans_ct'\n",
    "    ]\n",
    "\n",
    "continuos_numerical = [\n",
    "    'credit_limit','total_revolving_bal', 'avg_open_to_buy', 'total_amt_chng_q4_q1', 'total_trans_amt', 'total_ct_chng_q4_q1',\n",
    "    'avg_utilization_ratio'\n",
    "\n",
    "    ]\n",
    "\n",
    "\n",
    "# Categorical Variables\n",
    "\n",
    "nominal_categorical = [\n",
    "    'attrition_flag', 'gender', 'marital_status', \n",
    "    ]\n",
    "\n",
    "ordinal_categorical  = [\n",
    "    'education_level', 'income_category', 'card_category', \n",
    "\n",
    "    ]\n"
   ]
  },
  {
   "cell_type": "code",
   "execution_count": 0,
   "metadata": {
    "application/vnd.databricks.v1+cell": {
     "cellMetadata": {
      "byteLimit": 2048000,
      "rowLimit": 10000
     },
     "inputWidgets": {},
     "nuid": "f485d702-91f1-4afc-a97f-58edd61c00f2",
     "showTitle": false,
     "tableResultSettingsMap": {},
     "title": ""
    }
   },
   "outputs": [],
   "source": [
    "# Create dataset with column types\n",
    "column = ['ct_type_cols']\n",
    "data = [ (name_col, ) for name_col in df.columns]\n",
    "type_columns = spark.createDataFrame(data, column)\n",
    "\n",
    "# Adding types\n",
    "type_columns = type_columns \\\n",
    "  .withColumn('ct_type_cols', F.when(F.col('ct_type_cols').isin(nominal_categorical), 'Nominal Categorical').otherwise(F.col('ct_type_cols'))) \\\n",
    "  .withColumn('ct_type_cols', F.when(F.col('ct_type_cols').isin(ordinal_categorical), 'Ordinal Categorical').otherwise(F.col('ct_type_cols'))) \\\n",
    "  .withColumn('ct_type_cols', F.when(F.col('ct_type_cols').isin(continuos_numerical), 'Continuos Numerical').otherwise(F.col('ct_type_cols'))) \\\n",
    "  .withColumn('ct_type_cols', F.when(F.col('ct_type_cols').isin(discrete_numerical), 'Discrete Numerical').otherwise(F.col('ct_type_cols'))) \\\n",
    "\n",
    "# Colleting data\n",
    "groupy_type_columns = type_columns.groupBy('ct_type_cols') \\\n",
    "  .agg(F.count('ct_type_cols').alias('count_types')) \\\n",
    "  .withColumn('percentage', F.round((F.col('count_types') / len(df.columns)) * 100, 2)) \\\n",
    "  .orderBy('count_types') \\\n",
    "\n",
    "# Graphic\n",
    "# Data\n",
    "data_ax = groupy_type_columns.toPandas()"
   ]
  },
  {
   "cell_type": "code",
   "execution_count": 0,
   "metadata": {
    "application/vnd.databricks.v1+cell": {
     "cellMetadata": {
      "byteLimit": 2048000,
      "rowLimit": 10000
     },
     "inputWidgets": {},
     "nuid": "38370308-6241-418b-b0ae-5cc6e99e1cc0",
     "showTitle": false,
     "tableResultSettingsMap": {},
     "title": ""
    }
   },
   "outputs": [],
   "source": [
    "pie_type_var = GraphicsData(data = data_ax)\n",
    "pie_type_var.plot_variable_type(count_col='count_types', label_col='ct_type_cols')"
   ]
  },
  {
   "cell_type": "markdown",
   "metadata": {
    "application/vnd.databricks.v1+cell": {
     "cellMetadata": {},
     "inputWidgets": {},
     "nuid": "33057962-8792-4334-8687-314e88e9636c",
     "showTitle": false,
     "tableResultSettingsMap": {},
     "title": ""
    }
   },
   "source": [
    "### Checking the data initially to verify its characteristics and structure"
   ]
  },
  {
   "cell_type": "markdown",
   "metadata": {
    "application/vnd.databricks.v1+cell": {
     "cellMetadata": {},
     "inputWidgets": {},
     "nuid": "f5d39eba-cf50-47ae-b007-29c6e65708d3",
     "showTitle": false,
     "tableResultSettingsMap": {},
     "title": ""
    }
   },
   "source": [
    "####Checking some statistical data from the numerical columns of the data"
   ]
  },
  {
   "cell_type": "code",
   "execution_count": 0,
   "metadata": {
    "application/vnd.databricks.v1+cell": {
     "cellMetadata": {
      "byteLimit": 2048000,
      "rowLimit": 10000
     },
     "inputWidgets": {},
     "nuid": "b047d0c3-8cdb-4436-a143-ed2ece98a586",
     "showTitle": false,
     "tableResultSettingsMap": {},
     "title": ""
    }
   },
   "outputs": [],
   "source": [
    "df_describe = df.select(*discrete_numerical, *continuos_numerical) \\\n",
    "    .describe()\n",
    "df_describe.display()"
   ]
  },
  {
   "cell_type": "markdown",
   "metadata": {
    "application/vnd.databricks.v1+cell": {
     "cellMetadata": {},
     "inputWidgets": {},
     "nuid": "cd11485f-ba8d-4db2-8c0c-303d229b75a0",
     "showTitle": false,
     "tableResultSettingsMap": {},
     "title": ""
    }
   },
   "source": [
    "#### Mean of numerical variables"
   ]
  },
  {
   "cell_type": "code",
   "execution_count": 0,
   "metadata": {
    "application/vnd.databricks.v1+cell": {
     "cellMetadata": {
      "byteLimit": 2048000,
      "rowLimit": 10000
     },
     "inputWidgets": {},
     "nuid": "f65c11ec-2756-4dd0-9d43-8e28f3ab67af",
     "showTitle": false,
     "tableResultSettingsMap": {},
     "title": ""
    }
   },
   "outputs": [],
   "source": [
    "df_describe.filter(F.col('summary') == 'mean').display()"
   ]
  },
  {
   "cell_type": "markdown",
   "metadata": {
    "application/vnd.databricks.v1+cell": {
     "cellMetadata": {},
     "inputWidgets": {},
     "nuid": "6e0c76df-3287-4801-bfc9-729f76bf1295",
     "showTitle": false,
     "tableResultSettingsMap": {},
     "title": ""
    }
   },
   "source": [
    "#### Check categorial variables"
   ]
  },
  {
   "cell_type": "code",
   "execution_count": 0,
   "metadata": {
    "application/vnd.databricks.v1+cell": {
     "cellMetadata": {
      "byteLimit": 2048000,
      "rowLimit": 10000
     },
     "inputWidgets": {},
     "nuid": "12d56d0a-31ca-40df-b1cd-f502ff529ff6",
     "showTitle": false,
     "tableResultSettingsMap": {},
     "title": ""
    }
   },
   "outputs": [],
   "source": [
    "# Iterating over dataset columns\n",
    "for column in  df.select(*nominal_categorical, *ordinal_categorical).columns:\n",
    "\n",
    "    # Grouping columns by frequency and percentage\n",
    "    df.groupBy(column) \\\n",
    "        .agg(F.count(column).alias('frequency')) \\\n",
    "        .withColumn('percentage', F.round((F.col('frequency') / df.count()) * 100, 2)) \\\n",
    "        .orderBy('frequency', ascending = False) \\\n",
    "        .display()     "
   ]
  },
  {
   "cell_type": "markdown",
   "metadata": {
    "application/vnd.databricks.v1+cell": {
     "cellMetadata": {},
     "inputWidgets": {},
     "nuid": "f7a6cefa-a339-4137-bede-59bd11c982c8",
     "showTitle": false,
     "tableResultSettingsMap": {},
     "title": ""
    }
   },
   "source": [
    "#### Checking Outliers"
   ]
  },
  {
   "cell_type": "markdown",
   "metadata": {
    "application/vnd.databricks.v1+cell": {
     "cellMetadata": {},
     "inputWidgets": {},
     "nuid": "ee7b34d5-2530-4fd0-8e93-67eaa532c225",
     "showTitle": false,
     "tableResultSettingsMap": {},
     "title": ""
    }
   },
   "source": [
    "The min values ​​of numerical data"
   ]
  },
  {
   "cell_type": "code",
   "execution_count": 0,
   "metadata": {
    "application/vnd.databricks.v1+cell": {
     "cellMetadata": {
      "byteLimit": 2048000,
      "rowLimit": 10000
     },
     "inputWidgets": {},
     "nuid": "d31ffd9c-71b7-45fe-87d0-51948fe795a2",
     "showTitle": false,
     "tableResultSettingsMap": {},
     "title": ""
    }
   },
   "outputs": [],
   "source": [
    "df_describe.filter(F.col('summary') == 'min').display()"
   ]
  },
  {
   "cell_type": "markdown",
   "metadata": {
    "application/vnd.databricks.v1+cell": {
     "cellMetadata": {},
     "inputWidgets": {},
     "nuid": "aa14ba76-36d9-49ce-b684-3470908ec0f6",
     "showTitle": false,
     "tableResultSettingsMap": {},
     "title": ""
    }
   },
   "source": [
    "The max values ​​of numerical data"
   ]
  },
  {
   "cell_type": "code",
   "execution_count": 0,
   "metadata": {
    "application/vnd.databricks.v1+cell": {
     "cellMetadata": {
      "byteLimit": 2048000,
      "rowLimit": 10000
     },
     "inputWidgets": {},
     "nuid": "fe7cbf14-5723-4cd1-82b4-ae588074d641",
     "showTitle": false,
     "tableResultSettingsMap": {},
     "title": ""
    }
   },
   "outputs": [],
   "source": [
    "df_describe.filter(F.col('summary') == 'max').display()"
   ]
  },
  {
   "cell_type": "markdown",
   "metadata": {
    "application/vnd.databricks.v1+cell": {
     "cellMetadata": {},
     "inputWidgets": {},
     "nuid": "a19fe38a-bc65-450d-8217-4ae0beb9fb12",
     "showTitle": false,
     "tableResultSettingsMap": {},
     "title": ""
    }
   },
   "source": [
    "Distribution of numerical variables"
   ]
  },
  {
   "cell_type": "code",
   "execution_count": 0,
   "metadata": {
    "application/vnd.databricks.v1+cell": {
     "cellMetadata": {
      "byteLimit": 2048000,
      "rowLimit": 10000
     },
     "inputWidgets": {},
     "nuid": "c372b2d8-3c8c-4415-8c69-1d0e09e86249",
     "showTitle": false,
     "tableResultSettingsMap": {},
     "title": ""
    }
   },
   "outputs": [],
   "source": [
    "# Data Collect\n",
    "data_ax = df.select(*discrete_numerical, *continuos_numerical).toPandas()\n",
    "# Histoplots of Numerical Variables\n",
    "GraphicsData(data_ax).numerical_histograms()"
   ]
  },
  {
   "cell_type": "code",
   "execution_count": 0,
   "metadata": {
    "application/vnd.databricks.v1+cell": {
     "cellMetadata": {
      "byteLimit": 2048000,
      "rowLimit": 10000
     },
     "inputWidgets": {},
     "nuid": "b6ecec74-eace-40a6-94df-7e199586a8e9",
     "showTitle": false,
     "tableResultSettingsMap": {},
     "title": ""
    }
   },
   "outputs": [],
   "source": [
    "# Boxplots of Numerical Variables\n",
    "GraphicsData(data_ax).numerical_boxplots(showfliers = True)"
   ]
  },
  {
   "cell_type": "code",
   "execution_count": 0,
   "metadata": {
    "application/vnd.databricks.v1+cell": {
     "cellMetadata": {},
     "inputWidgets": {},
     "nuid": "0c919869-19ab-4f7d-aeec-8d929d1dd802",
     "showTitle": false,
     "tableResultSettingsMap": {},
     "title": ""
    }
   },
   "outputs": [],
   "source": []
  }
 ],
 "metadata": {
  "application/vnd.databricks.v1+notebook": {
   "computePreferences": null,
   "dashboards": [],
   "environmentMetadata": {
    "base_environment": "",
    "environment_version": "2"
   },
   "inputWidgetPreferences": null,
   "language": "python",
   "notebookMetadata": {
    "pythonIndentUnit": 4
   },
   "notebookName": "0_EDA",
   "widgets": {}
  },
  "language_info": {
   "name": "python"
  }
 },
 "nbformat": 4,
 "nbformat_minor": 0
}
