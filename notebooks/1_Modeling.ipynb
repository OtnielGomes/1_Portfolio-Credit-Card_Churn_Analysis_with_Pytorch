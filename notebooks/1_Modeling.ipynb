{
 "cells": [
  {
   "cell_type": "code",
   "execution_count": 0,
   "metadata": {
    "application/vnd.databricks.v1+cell": {
     "cellMetadata": {
      "byteLimit": 2048000,
      "rowLimit": 10000
     },
     "inputWidgets": {},
     "nuid": "828f56cc-98d9-4602-82c9-a4b03804129e",
     "showTitle": false,
     "tableResultSettingsMap": {},
     "title": ""
    }
   },
   "outputs": [],
   "source": [
    "%load_ext autoreload\n",
    "%autoreload 2\n",
    "# Enables autoreload; learn more at https://docs.databricks.com/en/files/workspace-modules.html#autoreload-for-python-modules\n",
    "# To disable autoreload; run %autoreload 0"
   ]
  },
  {
   "cell_type": "markdown",
   "metadata": {
    "application/vnd.databricks.v1+cell": {
     "cellMetadata": {},
     "inputWidgets": {},
     "nuid": "57ff3a70-3758-411a-8d61-0c6b7409d940",
     "showTitle": false,
     "tableResultSettingsMap": {},
     "title": ""
    }
   },
   "source": [
    "\n",
    "# Credit Card Churn Prediction\n",
    "---  \n",
    "\n",
    "## Project Description  \n",
    "In this project, I will develop a machine learning model – specifically, **a custom neural network architecture built with PyTorch** – to predict the probability of a customer canceling their credit card service (*churn*). The model will follow a **supervised learning** approach, using a labeled dataset where:  \n",
    "- **Customers who left the service** (*churn*) are labeled as **1**.  \n",
    "- **Active customers** (*non-churn*) are labeled as **0**.  \n",
    "\n",
    "---  \n",
    "\n",
    "### CRISP-DM Methodology  \n",
    "The project will follow the CRISP-DM (*Cross-Industry Standard Process for Data Mining*) framework:  \n",
    "\n",
    "| **Stage** | **Objective** | **Key Actions** |  \n",
    "|-----------|---------------|------------------|  \n",
    "| **1. Business Understanding** | Define the impact of churn prediction on customer retention. | - Identify the causes and possible solutions for the business.<br>- Align metrics with business KPIs. |  \n",
    "| **2. Data Understanding** | Analyze data structure, quality, and variable relationships. | - Exploratory Data Analysis (EDA).<br>- Outlier and correlation detection. |  \n",
    "| **3. Data Preparation** | Prepare data for model training. | - Split training and test data.<br>- Remove redundant variables. |  \n",
    "| **4. Modeling** | Train and compare classical models and neural networks. | - Random Forest/Logistic Regression (baseline).<br>- PyTorch neural network (focus on generalization). |  \n",
    "| **5. Evaluation** | Validate performance with business-oriented metrics. | - AUC-ROC, Recall, confusion matrix.<br>- Simulate financial impact. |  \n",
    "| **6. Deployment** | Deploy the model for production use. | - Build a final churn prediction model with customer behavior indicators. |  \n",
    "\n",
    "*This notebook covers the Modeling, Evaluation, and Deployment stages.*  \n",
    "\n",
    "---  \n"
   ]
  },
  {
   "cell_type": "markdown",
   "metadata": {
    "application/vnd.databricks.v1+cell": {
     "cellMetadata": {},
     "inputWidgets": {},
     "nuid": "e2102db0-4d9a-4508-9b14-7a0663f7e537",
     "showTitle": false,
     "tableResultSettingsMap": {},
     "title": ""
    }
   },
   "source": [
    "## Installs:"
   ]
  },
  {
   "cell_type": "code",
   "execution_count": 0,
   "metadata": {
    "application/vnd.databricks.v1+cell": {
     "cellMetadata": {
      "byteLimit": 2048000,
      "rowLimit": 10000
     },
     "inputWidgets": {},
     "nuid": "dd968d97-eedb-4464-9589-39d778e2dc4f",
     "showTitle": false,
     "tableResultSettingsMap": {},
     "title": ""
    }
   },
   "outputs": [],
   "source": [
    "%pip install -r '/Workspace/Repos/otniel.g.andrade@outlook.com/1_Portfolio-Credit-Card_Churn_Analysis_with_Pytorch/modeling_requeriments.txt'"
   ]
  },
  {
   "cell_type": "code",
   "execution_count": 0,
   "metadata": {
    "application/vnd.databricks.v1+cell": {
     "cellMetadata": {
      "byteLimit": 2048000,
      "rowLimit": 10000
     },
     "inputWidgets": {},
     "nuid": "1da3addb-33ba-4f06-af01-c051bb6d1ea1",
     "showTitle": false,
     "tableResultSettingsMap": {},
     "title": ""
    }
   },
   "outputs": [],
   "source": [
    "# Command to restart the kernel and update the installed libraries\n",
    "%restart_python"
   ]
  },
  {
   "cell_type": "markdown",
   "metadata": {
    "application/vnd.databricks.v1+cell": {
     "cellMetadata": {},
     "inputWidgets": {},
     "nuid": "25c50081-86d3-4c02-aa08-c566fca1a174",
     "showTitle": false,
     "tableResultSettingsMap": {},
     "title": ""
    }
   },
   "source": [
    "## Imports:"
   ]
  },
  {
   "cell_type": "code",
   "execution_count": 0,
   "metadata": {
    "application/vnd.databricks.v1+cell": {
     "cellMetadata": {
      "byteLimit": 2048000,
      "rowLimit": 10000
     },
     "inputWidgets": {},
     "nuid": "fcd426ea-8f73-4b31-ad50-c04d578e4643",
     "showTitle": false,
     "tableResultSettingsMap": {},
     "title": ""
    }
   },
   "outputs": [],
   "source": [
    "# Data Loading and Modeling:\n",
    "# Pandas\n",
    "import pandas as pd\n",
    "\n",
    "# SRC/ Functions Utils\n",
    "import sys\n",
    "sys.path.append('/Workspace/Repos/otniel.g.andrade@outlook.com/1_Portfolio-Credit-Card_Churn_Analysis_with_Pytorch/src')\n",
    "from data import DataSpark\n",
    "from preprocessing import PreprocessingData"
   ]
  },
  {
   "cell_type": "code",
   "execution_count": 0,
   "metadata": {
    "application/vnd.databricks.v1+cell": {
     "cellMetadata": {},
     "inputWidgets": {},
     "nuid": "3230dd08-2475-4b67-948f-4dcf2b93b76c",
     "showTitle": false,
     "tableResultSettingsMap": {},
     "title": ""
    }
   },
   "outputs": [],
   "source": [
    "\n",
    "# Pyspark.Api Pandas\n",
    "from pyspark import pandas as ps\n",
    "\n",
    "# Numpy\n",
    "import numpy as np\n",
    "\n",
    "# Models of Machine Learning:\n",
    "# Scikit-Learn Preprocessing / Metrics\n",
    "from sklearn.preprocessing import OrdinalEncoder, OneHotEncoder, StandardScaler, RobustScaler, MinMaxScaler\n",
    "from sklearn.compose import ColumnTransformer\n",
    "from sklearn.pipeline import Pipeline\n",
    "from sklearn.model_selection import StratifiedKFold, cross_val_score\n",
    "# Scikit-Learn Models\n",
    "from sklearn.tree import DecisionTreeClassifier \n",
    "from sklearn.ensemble import RandomForestClassifier, GradientBoostingClassifier\n",
    "from sklearn.neighbors import KNeighborsClassifier\n",
    "from sklearn.svm import SVC\n",
    "from sklearn.linear_model import LogisticRegression\n",
    "# PyTorch\n",
    "import torch\n",
    "import torch.nn as nn\n",
    "import torch.nn.functional as F\n",
    "import torch.optim as optim\n",
    "# Torch Metrics\n",
    "from torchmetrics.classification import BinaryAccuracy, BinaryAUROC, BinaryRecall, BinaryF1Score, BinaryConfusionMatrix, BinaryPrecision, BinaryNegativePredictiveValue, BinaryROC, BinaryPrecisionRecallCurve, BinaryAveragePrecision\n",
    "from torchmetrics import MetricCollection\n",
    "\n",
    "# Hypertunning Pytorch:\n",
    "# Ray Tunner/Optuna\n",
    "from ray import tune\n",
    "from ray.tune import Checkpoint, Tuner, TuneConfig, RunConfig\n",
    "from ray.tune.search.optuna import OptunaSearch\n",
    "import ray.cloudpickle as pickle\n",
    "# Tqdm\n",
    "from tqdm import tqdm\n",
    "\n",
    "# Graphics:\n",
    "# Matplotlib\n",
    "import matplotlib.pyplot as plt\n",
    "# Seaborn\n",
    "import seaborn as sns\n",
    "\n",
    "# Python:\n",
    "# Time\n",
    "import time\n",
    "# Random\n",
    "import random\n",
    "# Partial\n",
    "from functools import partial\n",
    "# OS\n",
    "import os\n",
    "# Tempfile\n",
    "import tempfile\n",
    "# Path\n",
    "from pathlib import Path\n",
    "# Warnings\n",
    "import warnings"
   ]
  },
  {
   "cell_type": "markdown",
   "metadata": {
    "application/vnd.databricks.v1+cell": {
     "cellMetadata": {},
     "inputWidgets": {},
     "nuid": "5ae12253-d39d-4dca-bbc8-9609bb014677",
     "showTitle": false,
     "tableResultSettingsMap": {},
     "title": ""
    }
   },
   "source": [
    "## Configs:"
   ]
  },
  {
   "cell_type": "code",
   "execution_count": 0,
   "metadata": {
    "application/vnd.databricks.v1+cell": {
     "cellMetadata": {
      "byteLimit": 2048000,
      "rowLimit": 10000
     },
     "inputWidgets": {},
     "nuid": "d42c7969-f11b-4a46-8cc7-a4ce8f3f24ff",
     "showTitle": false,
     "tableResultSettingsMap": {},
     "title": ""
    }
   },
   "outputs": [],
   "source": [
    "# Pandas:\n",
    "pd.set_option('display.max_rows', None)\n",
    "pd.set_option('display.max_columns', None)"
   ]
  },
  {
   "cell_type": "markdown",
   "metadata": {
    "application/vnd.databricks.v1+cell": {
     "cellMetadata": {},
     "inputWidgets": {},
     "nuid": "66518756-121c-42a6-86e3-104accafcf21",
     "showTitle": false,
     "tableResultSettingsMap": {},
     "title": ""
    }
   },
   "source": [
    "\n",
    "## 4. Modeling\n",
    "---  \n",
    "In this stage, **I will test classical machine learning models** to evaluate their performance on the training data. The approach will be **intentionally simple** (without complex hyperparameter tuning or advanced preprocessing techniques), as algorithms like **Random Forest, Logistic Regression, and SVM** typically perform better with straightforward data transformations.  \n",
    "\n",
    "---  \n",
    "\n",
    "After this initial analysis, **I will prioritize the project’s main model**: a **neural network developed in PyTorch**. This architecture was chosen due to its:  \n",
    "\n",
    "- **Ability to identify complex patterns** in non-linear data.  \n",
    "- **Flexibility to adapt to class imbalances** (e.g., the observed 84%-16% class distribution).  \n",
    "- **Generalization capability** (Highly efficient with unseen data).  \n",
    "\n",
    "However, neural networks require **specific preprocessing**, particularly to address:  \n",
    "1. **High-cardinality categorical variables** (e.g., unique identifiers).  \n",
    "2. **Asymmetric distributions** (identified during the EDA phase).  \n",
    "3. **Data noise** (such as outliers in numerical variables).  \n",
    "\n",
    "To address these, I will apply:  \n",
    "- **Embedding layers** for categorical variables.  \n",
    "- **Cross-validation** to verify and adjust data across different partitions.  \n",
    "- **Regularization techniques** (e.g., *dropout*) to prevent *overfitting*.  \n",
    "\n",
    "---  \n",
    "\n",
    "### Modeling Split into Two Phases \n",
    "#### **Phase 1: Classical Machine Learning Models**  \n",
    "| **Objective** | **Tools** | **Metric** |  \n",
    "|---------------|------------|-------------|  \n",
    "| Establish a performance baseline for future comparison. | Scikit-learn (Decision Trees, SVM, Logistic Regression). | AUC-ROC. |  \n",
    "\n",
    "#### **Phase 2: PyTorch Neural Network**  \n",
    "| **Objective** | **Tools** | **Metric** |  \n",
    "|---------------|------------|-------------|  \n",
    "| Achieve better generalization on unseen data. | PyTorch, Torchmetrics, Ray Tune. | AUC-ROC, Recall. |  \n",
    "\n",
    "---  \n",
    "\n",
    "### Evaluation Metric Choice: AUC-ROC \n",
    "#### Why AUC-ROC?  \n",
    "| **Criterion** | **Explanation** | **Business Impact** |  \n",
    "|---------------|------------------|----------------------|  \n",
    "| **Class imbalance** | Balances *recall* (capturing churning customers) and *specificity* (avoiding unnecessary actions on loyal customers). | Reduces operational costs by prioritizing high-risk customers. |  \n",
    "| **Asymmetric cost sensitivity** | False negatives (missing churn) are more critical than false positives. | Improves retention campaign efficacy (e.g., personalized offers). |  \n",
    "| **Universal interpretability** | Scores above **0.85** indicate strong predictive power for binary classification. | Simplifies communication with non-technical stakeholders. |  \n",
    "\n",
    "---  \n"
   ]
  },
  {
   "cell_type": "markdown",
   "metadata": {
    "application/vnd.databricks.v1+cell": {
     "cellMetadata": {},
     "inputWidgets": {},
     "nuid": "a6b6e562-3d16-40a2-923b-6ddfd830cf19",
     "showTitle": false,
     "tableResultSettingsMap": {},
     "title": ""
    }
   },
   "source": [
    "#### Loading data train and data test"
   ]
  },
  {
   "cell_type": "code",
   "execution_count": 0,
   "metadata": {
    "application/vnd.databricks.v1+cell": {
     "cellMetadata": {
      "byteLimit": 2048000,
      "rowLimit": 10000
     },
     "inputWidgets": {},
     "nuid": "42808d83-face-404c-988e-ef74dfd397ec",
     "showTitle": false,
     "tableResultSettingsMap": {},
     "title": ""
    }
   },
   "outputs": [],
   "source": [
    "# File location and file type -- train\n",
    "file_location  = '/Volumes/workspace/projects-data-science/churn-project-data/gold/train'\n",
    "file_type = 'parquet'\n",
    "train = DataSpark(spark = spark, file_location = file_location).load_data_pandas(file_type = file_type)"
   ]
  },
  {
   "cell_type": "code",
   "execution_count": 0,
   "metadata": {
    "application/vnd.databricks.v1+cell": {
     "cellMetadata": {
      "byteLimit": 2048000,
      "rowLimit": 10000
     },
     "inputWidgets": {},
     "nuid": "f91e7304-5536-430d-878b-b73f28f9546d",
     "showTitle": false,
     "tableResultSettingsMap": {},
     "title": ""
    }
   },
   "outputs": [],
   "source": [
    "# File location and file type -- train\n",
    "file_location  = '/Volumes/workspace/projects-data-science/churn-project-data/gold/test'\n",
    "file_type = 'parquet'\n",
    "test = DataSpark(spark = spark, file_location = file_location).load_data_pandas(file_type = file_type)"
   ]
  },
  {
   "cell_type": "code",
   "execution_count": 0,
   "metadata": {
    "application/vnd.databricks.v1+cell": {
     "cellMetadata": {
      "byteLimit": 2048000,
      "rowLimit": 10000
     },
     "inputWidgets": {},
     "nuid": "8afce19a-6f7d-454c-a09d-b57f7b44ad8b",
     "showTitle": false,
     "tableResultSettingsMap": {},
     "title": ""
    }
   },
   "outputs": [],
   "source": [
    "train.head()"
   ]
  },
  {
   "cell_type": "markdown",
   "metadata": {
    "application/vnd.databricks.v1+cell": {
     "cellMetadata": {},
     "inputWidgets": {},
     "nuid": "8734cf90-c83f-4754-9d27-31b55cbea5a9",
     "showTitle": false,
     "tableResultSettingsMap": {},
     "title": ""
    }
   },
   "source": [
    "### Checking the dimensions of the training and test data"
   ]
  },
  {
   "cell_type": "code",
   "execution_count": 0,
   "metadata": {
    "application/vnd.databricks.v1+cell": {
     "cellMetadata": {
      "byteLimit": 2048000,
      "rowLimit": 10000
     },
     "inputWidgets": {},
     "nuid": "6dfa0356-d16e-432b-9a15-39fb5fbf12ca",
     "showTitle": false,
     "tableResultSettingsMap": {},
     "title": ""
    }
   },
   "outputs": [],
   "source": [
    "train.count()"
   ]
  },
  {
   "cell_type": "code",
   "execution_count": 0,
   "metadata": {
    "application/vnd.databricks.v1+cell": {
     "cellMetadata": {
      "byteLimit": 2048000,
      "rowLimit": 10000
     },
     "inputWidgets": {},
     "nuid": "7d0e4887-3b4b-41e4-b20e-8d616c20bd88",
     "showTitle": false,
     "tableResultSettingsMap": {},
     "title": ""
    }
   },
   "outputs": [],
   "source": [
    "train.shape"
   ]
  },
  {
   "cell_type": "code",
   "execution_count": 0,
   "metadata": {
    "application/vnd.databricks.v1+cell": {
     "cellMetadata": {
      "byteLimit": 2048000,
      "rowLimit": 10000
     },
     "inputWidgets": {},
     "nuid": "c49ae3db-069f-45d6-9d9a-21db38b12056",
     "showTitle": false,
     "tableResultSettingsMap": {},
     "title": ""
    }
   },
   "outputs": [],
   "source": [
    "test.count()"
   ]
  },
  {
   "cell_type": "code",
   "execution_count": 0,
   "metadata": {
    "application/vnd.databricks.v1+cell": {
     "cellMetadata": {
      "byteLimit": 2048000,
      "rowLimit": 10000
     },
     "inputWidgets": {},
     "nuid": "b4025fb6-ed22-4ad8-872b-8f691636f8b3",
     "showTitle": false,
     "tableResultSettingsMap": {},
     "title": ""
    }
   },
   "outputs": [],
   "source": [
    "test.shape"
   ]
  },
  {
   "cell_type": "markdown",
   "metadata": {
    "application/vnd.databricks.v1+cell": {
     "cellMetadata": {},
     "inputWidgets": {},
     "nuid": "444083db-64b9-45f9-b74f-24219388d8fe",
     "showTitle": false,
     "tableResultSettingsMap": {},
     "title": ""
    }
   },
   "source": [
    "### Training Classics Models - Cross-Validation"
   ]
  },
  {
   "cell_type": "markdown",
   "metadata": {
    "application/vnd.databricks.v1+cell": {
     "cellMetadata": {},
     "inputWidgets": {},
     "nuid": "0a919bc4-214d-4d39-9375-c14a274aee80",
     "showTitle": false,
     "tableResultSettingsMap": {},
     "title": ""
    }
   },
   "source": [
    "#### Separating features and labels"
   ]
  },
  {
   "cell_type": "code",
   "execution_count": 0,
   "metadata": {
    "application/vnd.databricks.v1+cell": {
     "cellMetadata": {
      "byteLimit": 2048000,
      "rowLimit": 10000
     },
     "inputWidgets": {},
     "nuid": "833f1fd6-dc9d-414c-b528-d872871cb38d",
     "showTitle": false,
     "tableResultSettingsMap": {},
     "title": ""
    }
   },
   "outputs": [],
   "source": [
    "# Train\n",
    "X_train = train.drop(columns = 'churn_target')\n",
    "y_train = train['churn_target'].copy()\n",
    "# Test \n",
    "X_test = test.drop(columns = 'churn_target')\n",
    "y_test = test['churn_target'].copy()\n",
    "\n",
    "# Checking the dimensions of the training and test data\n",
    "print(f'The Train features dataset shape: {X_train.shape}')\n",
    "print(f'The Train labels dataset shape: {y_train.shape}')\n",
    "print(f'\\nThe Test features dataset shape: {X_test.shape}')\n",
    "print(f'The Test labels dataset shape: {y_test.shape}')"
   ]
  },
  {
   "cell_type": "markdown",
   "metadata": {
    "application/vnd.databricks.v1+cell": {
     "cellMetadata": {},
     "inputWidgets": {},
     "nuid": "d3648b7e-7c61-4c9a-816c-1a490acf7958",
     "showTitle": false,
     "tableResultSettingsMap": {},
     "title": ""
    }
   },
   "source": [
    "#### Preprocessing"
   ]
  },
  {
   "cell_type": "code",
   "execution_count": 0,
   "metadata": {
    "application/vnd.databricks.v1+cell": {
     "cellMetadata": {
      "byteLimit": 2048000,
      "rowLimit": 10000
     },
     "inputWidgets": {},
     "nuid": "c5cfeaf3-0a9d-4a32-a9a7-0d5ae7fa85a9",
     "showTitle": false,
     "tableResultSettingsMap": {},
     "title": ""
    }
   },
   "outputs": [],
   "source": [
    "# Models of Machine Learning:\n",
    "# Scikit-Learn Preprocessing / Metrics\n",
    "from sklearn.preprocessing import OrdinalEncoder, OneHotEncoder, StandardScaler, RobustScaler, MinMaxScaler\n",
    "from sklearn.compose import ColumnTransformer\n",
    "from sklearn.pipeline import Pipeline\n",
    "from sklearn.model_selection import StratifiedKFold, cross_val_score\n",
    "# Scikit-Learn Models\n",
    "from sklearn.tree import DecisionTreeClassifier \n",
    "from sklearn.ensemble import RandomForestClassifier, GradientBoostingClassifier\n",
    "from sklearn.neighbors import KNeighborsClassifier\n",
    "from sklearn.svm import SVC\n",
    "from sklearn.linear_model import LogisticRegression"
   ]
  },
  {
   "cell_type": "code",
   "execution_count": 0,
   "metadata": {
    "application/vnd.databricks.v1+cell": {
     "cellMetadata": {
      "byteLimit": 2048000,
      "rowLimit": 10000
     },
     "inputWidgets": {},
     "nuid": "e80d1a8c-7dcc-4a0e-99eb-7062d57ee8df",
     "showTitle": false,
     "tableResultSettingsMap": {},
     "title": ""
    }
   },
   "outputs": [],
   "source": [
    "ml_preprocessor = PreprocessingData().MLClassicPreprocessing()"
   ]
  },
  {
   "cell_type": "code",
   "execution_count": 0,
   "metadata": {
    "application/vnd.databricks.v1+cell": {
     "cellMetadata": {
      "byteLimit": 2048000,
      "rowLimit": 10000
     },
     "inputWidgets": {},
     "nuid": "e919b18a-5d75-44ab-9ccb-fab57eb358da",
     "showTitle": false,
     "tableResultSettingsMap": {},
     "title": ""
    }
   },
   "outputs": [],
   "source": [
    "X_train_preprocessed = ml_preprocessor.fit_transform(X_train)\n",
    "pd.DataFrame(X_train_preprocessed, columns = ml_preprocessor.get_feature_names_out(X_train.columns)).head(10)"
   ]
  },
  {
   "cell_type": "markdown",
   "metadata": {
    "application/vnd.databricks.v1+cell": {
     "cellMetadata": {},
     "inputWidgets": {},
     "nuid": "451145df-1c25-4f9b-9465-ea62f49a51f7",
     "showTitle": false,
     "tableResultSettingsMap": {},
     "title": ""
    }
   },
   "source": [
    "Shape of train preprocessed"
   ]
  },
  {
   "cell_type": "code",
   "execution_count": 0,
   "metadata": {
    "application/vnd.databricks.v1+cell": {
     "cellMetadata": {
      "byteLimit": 2048000,
      "rowLimit": 10000
     },
     "inputWidgets": {},
     "nuid": "8554e778-80c7-4cf8-b184-64249f8f7e86",
     "showTitle": false,
     "tableResultSettingsMap": {},
     "title": ""
    }
   },
   "outputs": [],
   "source": [
    "X_train_preprocessed.shape"
   ]
  },
  {
   "cell_type": "code",
   "execution_count": 0,
   "metadata": {
    "application/vnd.databricks.v1+cell": {
     "cellMetadata": {
      "byteLimit": 2048000,
      "rowLimit": 10000
     },
     "inputWidgets": {},
     "nuid": "290caaef-eb02-497e-991b-de474dc8d75d",
     "showTitle": false,
     "tableResultSettingsMap": {},
     "title": ""
    }
   },
   "outputs": [],
   "source": [
    "ml_preprocessor"
   ]
  },
  {
   "cell_type": "code",
   "execution_count": 0,
   "metadata": {
    "application/vnd.databricks.v1+cell": {
     "cellMetadata": {
      "byteLimit": 2048000,
      "rowLimit": 10000
     },
     "inputWidgets": {},
     "nuid": "e7f7fd7a-aad4-4f8e-8853-ca95e660a5d1",
     "showTitle": false,
     "tableResultSettingsMap": {},
     "title": ""
    }
   },
   "outputs": [],
   "source": [
    "models"
   ]
  },
  {
   "cell_type": "code",
   "execution_count": 0,
   "metadata": {
    "application/vnd.databricks.v1+cell": {
     "cellMetadata": {
      "byteLimit": 2048000,
      "rowLimit": 10000
     },
     "inputWidgets": {},
     "nuid": "8d6138e4-75f4-421d-9a57-70502902cfa8",
     "showTitle": false,
     "tableResultSettingsMap": {},
     "title": ""
    }
   },
   "outputs": [],
   "source": [
    "models = [\n",
    "\n",
    "    ('Logistic Regression', \n",
    "     Pipeline([('model', LogisticRegression(\n",
    "         random_state = 33, \n",
    "         class_weight = 'balanced',\n",
    "    ))])),\n",
    "\n",
    "    ('Decision Tree Classifier', \n",
    "     Pipeline([('model', DecisionTreeClassifier(\n",
    "         random_state = 33, \n",
    "         class_weight = 'balanced',\n",
    "         max_depth = 5,\n",
    "         criterion = 'gini',\n",
    "         min_impurity_decrease = 0.001,\n",
    "    ))])),\n",
    "\n",
    "\n",
    "    ('Random Forest Classifier', \n",
    "     Pipeline([('model', RandomForestClassifier(\n",
    "        random_state = 33,\n",
    "        class_weight = 'balanced',\n",
    "        n_estimators = 100,\n",
    "        max_depth = 10,\n",
    "        min_samples_split = 2,\n",
    "        \n",
    "    ))])),\n",
    "     \n",
    "    ('KNeighbors Classifier', \n",
    "     Pipeline([('model', KNeighborsClassifier(\n",
    "        n_neighbors = 5,\n",
    "        weights = 'distance',\n",
    "        metric = 'minkowski'\n",
    "    ))])),\n",
    "\n",
    "    ('Suport Vector Machine Classifier', \n",
    "     Pipeline([('model', SVC(\n",
    "        random_state = 33,\n",
    "        class_weight = 'balanced',\n",
    "        C = 1.0,\n",
    "        kernel = 'rbf',\n",
    "        gamma = 'scale',\n",
    "        probability = True, \n",
    "    ))])),\n",
    "\n",
    "    ('Gradient Boosting Classifier', \n",
    "     Pipeline([('model', GradientBoostingClassifier(\n",
    "        random_state = 33,\n",
    "        n_estimators = 200,\n",
    "        max_depth = 3,\n",
    "        learning_rate = 0.1,\n",
    "        subsample = 0.7\n",
    "    ))])),\n",
    "\n",
    "]"
   ]
  },
  {
   "cell_type": "code",
   "execution_count": 0,
   "metadata": {
    "application/vnd.databricks.v1+cell": {
     "cellMetadata": {},
     "inputWidgets": {},
     "nuid": "e73de0f1-39aa-4f0d-9c6a-aba153445482",
     "showTitle": false,
     "tableResultSettingsMap": {},
     "title": ""
    }
   },
   "outputs": [],
   "source": []
  },
  {
   "cell_type": "code",
   "execution_count": 0,
   "metadata": {
    "application/vnd.databricks.v1+cell": {
     "cellMetadata": {},
     "inputWidgets": {},
     "nuid": "ce8a2d14-343b-4676-bf76-cf6b63cc0391",
     "showTitle": false,
     "tableResultSettingsMap": {},
     "title": ""
    }
   },
   "outputs": [],
   "source": []
  },
  {
   "cell_type": "code",
   "execution_count": 0,
   "metadata": {
    "application/vnd.databricks.v1+cell": {
     "cellMetadata": {
      "byteLimit": 2048000,
      "rowLimit": 10000
     },
     "inputWidgets": {},
     "nuid": "74661883-3be3-444d-a224-f8efcf8e0bec",
     "showTitle": false,
     "tableResultSettingsMap": {},
     "title": ""
    }
   },
   "outputs": [],
   "source": [
    "nn_proprocessor = PreprocessingData().NeuralNetWorkPreprocessing()"
   ]
  },
  {
   "cell_type": "code",
   "execution_count": 0,
   "metadata": {
    "application/vnd.databricks.v1+cell": {
     "cellMetadata": {
      "byteLimit": 2048000,
      "rowLimit": 10000
     },
     "inputWidgets": {},
     "nuid": "68141fd8-565f-4df8-9202-5e8a84bd5d30",
     "showTitle": false,
     "tableResultSettingsMap": {},
     "title": ""
    }
   },
   "outputs": [],
   "source": [
    "nn_proprocessor"
   ]
  },
  {
   "cell_type": "code",
   "execution_count": 0,
   "metadata": {
    "application/vnd.databricks.v1+cell": {
     "cellMetadata": {
      "byteLimit": 2048000,
      "rowLimit": 10000
     },
     "inputWidgets": {},
     "nuid": "dbf3c297-c2c4-45d4-9ab2-646dd3104cff",
     "showTitle": false,
     "tableResultSettingsMap": {},
     "title": ""
    }
   },
   "outputs": [],
   "source": [
    "preprocessed_train = nn_proprocessor.fit_transform(train)\n",
    "pd.DataFrame(preprocessed_train, columns = nn_proprocessor.get_feature_names_out(train.columns)).head(10)"
   ]
  },
  {
   "cell_type": "code",
   "execution_count": 0,
   "metadata": {
    "application/vnd.databricks.v1+cell": {
     "cellMetadata": {},
     "inputWidgets": {},
     "nuid": "d3d01531-6bd3-4636-9ec5-fddd680d6857",
     "showTitle": false,
     "tableResultSettingsMap": {},
     "title": ""
    }
   },
   "outputs": [],
   "source": []
  }
 ],
 "metadata": {
  "application/vnd.databricks.v1+notebook": {
   "computePreferences": null,
   "dashboards": [],
   "environmentMetadata": {
    "base_environment": "",
    "environment_version": "2"
   },
   "inputWidgetPreferences": null,
   "language": "python",
   "notebookMetadata": {
    "pythonIndentUnit": 4
   },
   "notebookName": "1_Modeling",
   "widgets": {}
  },
  "language_info": {
   "name": "python"
  }
 },
 "nbformat": 4,
 "nbformat_minor": 0
}
